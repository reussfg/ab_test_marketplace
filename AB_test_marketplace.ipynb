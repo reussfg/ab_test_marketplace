{
 "cells": [
  {
   "cell_type": "markdown",
   "metadata": {},
   "source": [
    "# Teste A/B e análise de hipóteses - Markepalce Y.Afish\n",
    "\n",
    "\n",
    "Este projeto tem como objetivo otimizar as despesas de marketing da empresa Y.Afisha, por meio da análise de dados. A análise será dividida em duas seções principais, cada uma focada em uma etapa específica do projeto.\n",
    "\n",
    "\n",
    "* Parte 1: Priorização de Hipóteses\n",
    "\n",
    "    Nesta parte do projeto, iremos priorizar uma lista de hipóteses que podem ajudar a aumentar a receita da loja online. Utilizaremos os dados fornecidos no arquivo \"hypotheses_us.csv\", que contém nove hipóteses com métricas de alcance, impacto, confiança e esforço associadas a cada uma delas.\n",
    "\n",
    "    A tarefa consiste em aplicar os frameworks ICE e RICE para priorizar as hipóteses. Será necessário classificá-las em ordem decrescente de prioridade em ambos os frameworks. Além disso, iremos comparar como a priorização é alterada ao usar o framework RICE em vez do ICE e fornecer uma explicação para as alterações observadas.\n",
    "\n",
    "\n",
    "\n",
    "* Parte 2: Análise de Teste A/B\n",
    "    Nesta parte do projeto, iremos analisar os resultados de um teste A/B realizado pela equipe de marketing. Os dados do teste estão disponíveis nos arquivos \"orders_us.csv\" e \"visits_us.csv\". O objetivo é analisar o desempenho das diferentes variantes do teste A/B em termos de receita, tamanho médio do pedido, taxa de conversão e outros aspectos relevantes.\n",
    "\n",
    "    As tarefas nesta seção incluem a criação de gráficos para visualizar a receita acumulada por grupo, o tamanho médio do pedido, a diferença relativa no tamanho médio do pedido entre os grupos, a taxa de conversão diária e a diferença relativa na conversão cumulativa entre os grupos. Também iremos calcular os percentis 95 e 99 para o número de pedidos por usuário e para os preços dos pedidos.\n",
    "\n",
    "    Em seguida, iremos avaliar a significância estatística das diferenças encontradas e tomar uma decisão com base nos resultados do teste."
   ]
  },
  {
   "cell_type": "markdown",
   "metadata": {},
   "source": [
    "## Parte 1 - Priorização de hipóteses\n",
    "\n",
    "Nesta seção do projeto, iremos trabalhar com o arquivo \"hypotheses_us.csv\", que contém nove hipóteses para aumentar a receita de uma loja online. Cada hipótese é acompanhada por métricas de alcance (Reach), impacto (Impact), confiança (Confidence) e esforço (Effort), que foram especificadas para cada uma delas.\n",
    "\n",
    "A tarefa principal é aplicar dois frameworks de priorização, ICE e RICE, para classificar as hipóteses em ordem decrescente de prioridade. O framework ICE leva em consideração o impacto, confiança e esforço de cada hipótese, enquanto o framework RICE também considera o alcance como um fator adicional.\n",
    "\n",
    "Após aplicar ambos os frameworks, iremos comparar a priorização das hipóteses e observar como ela é alterada quando utilizamos o framework RICE em vez do ICE. Essa comparação nos permitirá entender como o fator de alcance influencia a priorização das hipóteses.\n",
    "\n",
    "Ao final desta seção, iremos fornecer uma explicação para as alterações na priorização e discutir a importância do alcance na seleção das hipóteses prioritárias.\n",
    "\n",
    "Vamos começar aplicando o framework ICE para classificar as hipóteses em ordem decrescente de prioridade.\n",
    "\n",
    "\n",
    "O passo a passo será feito por:\n",
    "\n",
    "* importar bibliotecas\n",
    "* importar dados\n",
    "* pré análise dos dados\n",
    "* limpeza dos dados\n",
    "* aplicação do framework e geração de resultados"
   ]
  },
  {
   "cell_type": "markdown",
   "metadata": {},
   "source": [
    "### Importar bibliotecas\n",
    "\n",
    "Iremos inicialmente importar as bibliotecas:\n",
    "\n",
    "* pandas\n",
    "* numpy\n",
    "* matplotlib para gráficos\n",
    "* from scipy import stats para testes estatísticos"
   ]
  },
  {
   "cell_type": "code",
   "execution_count": 757,
   "metadata": {},
   "outputs": [],
   "source": [
    "# importando bibliotecas\n",
    "\n",
    "import pandas as pd\n",
    "import numpy as np\n",
    "import matplotlib.pyplot as plt\n",
    "from scipy import stats as st"
   ]
  },
  {
   "cell_type": "markdown",
   "metadata": {},
   "source": [
    "### Importar dados"
   ]
  },
  {
   "cell_type": "code",
   "execution_count": 758,
   "metadata": {},
   "outputs": [],
   "source": [
    "# importando os dados necessários\n",
    "\n",
    "# abrindo a tabela hypotheses_us.csv\n",
    "\n",
    "# Carregando dados no computador pessoal\n",
    "try:\n",
    "    df_hyp = pd.read_csv(r'download/datasets/hypotheses_us.csv', sep = ';')\n",
    "    \n",
    "# Carregando dados no JupyterHub\n",
    "except:\n",
    "    df_hyp = pd.read_csv(r'/datasets/hypotheses_us.csv', sep = ';')"
   ]
  },
  {
   "cell_type": "markdown",
   "metadata": {},
   "source": [
    "### Pré análise dos dados"
   ]
  },
  {
   "cell_type": "code",
   "execution_count": 759,
   "metadata": {},
   "outputs": [
    {
     "data": {
      "text/html": [
       "<div>\n",
       "<style scoped>\n",
       "    .dataframe tbody tr th:only-of-type {\n",
       "        vertical-align: middle;\n",
       "    }\n",
       "\n",
       "    .dataframe tbody tr th {\n",
       "        vertical-align: top;\n",
       "    }\n",
       "\n",
       "    .dataframe thead th {\n",
       "        text-align: right;\n",
       "    }\n",
       "</style>\n",
       "<table border=\"1\" class=\"dataframe\">\n",
       "  <thead>\n",
       "    <tr style=\"text-align: right;\">\n",
       "      <th></th>\n",
       "      <th>Hypothesis</th>\n",
       "      <th>Reach</th>\n",
       "      <th>Impact</th>\n",
       "      <th>Confidence</th>\n",
       "      <th>Effort</th>\n",
       "    </tr>\n",
       "  </thead>\n",
       "  <tbody>\n",
       "    <tr>\n",
       "      <th>0</th>\n",
       "      <td>Add two new channels for attracting traffic. T...</td>\n",
       "      <td>3</td>\n",
       "      <td>10</td>\n",
       "      <td>8</td>\n",
       "      <td>6</td>\n",
       "    </tr>\n",
       "    <tr>\n",
       "      <th>1</th>\n",
       "      <td>Launch your own delivery service. This will sh...</td>\n",
       "      <td>2</td>\n",
       "      <td>5</td>\n",
       "      <td>4</td>\n",
       "      <td>10</td>\n",
       "    </tr>\n",
       "    <tr>\n",
       "      <th>2</th>\n",
       "      <td>Add product recommendation blocks to the store...</td>\n",
       "      <td>8</td>\n",
       "      <td>3</td>\n",
       "      <td>7</td>\n",
       "      <td>3</td>\n",
       "    </tr>\n",
       "    <tr>\n",
       "      <th>3</th>\n",
       "      <td>Change the category structure. This will incre...</td>\n",
       "      <td>8</td>\n",
       "      <td>3</td>\n",
       "      <td>3</td>\n",
       "      <td>8</td>\n",
       "    </tr>\n",
       "    <tr>\n",
       "      <th>4</th>\n",
       "      <td>Change the background color on the main page. ...</td>\n",
       "      <td>3</td>\n",
       "      <td>1</td>\n",
       "      <td>1</td>\n",
       "      <td>1</td>\n",
       "    </tr>\n",
       "  </tbody>\n",
       "</table>\n",
       "</div>"
      ],
      "text/plain": [
       "                                          Hypothesis  Reach  Impact  \\\n",
       "0  Add two new channels for attracting traffic. T...      3      10   \n",
       "1  Launch your own delivery service. This will sh...      2       5   \n",
       "2  Add product recommendation blocks to the store...      8       3   \n",
       "3  Change the category structure. This will incre...      8       3   \n",
       "4  Change the background color on the main page. ...      3       1   \n",
       "\n",
       "   Confidence  Effort  \n",
       "0           8       6  \n",
       "1           4      10  \n",
       "2           7       3  \n",
       "3           3       8  \n",
       "4           1       1  "
      ]
     },
     "execution_count": 759,
     "metadata": {},
     "output_type": "execute_result"
    }
   ],
   "source": [
    "# mostrando df\n",
    "df_hyp.head()"
   ]
  },
  {
   "cell_type": "code",
   "execution_count": 760,
   "metadata": {},
   "outputs": [
    {
     "name": "stdout",
     "output_type": "stream",
     "text": [
      "<class 'pandas.core.frame.DataFrame'>\n",
      "RangeIndex: 9 entries, 0 to 8\n",
      "Data columns (total 5 columns):\n",
      " #   Column      Non-Null Count  Dtype \n",
      "---  ------      --------------  ----- \n",
      " 0   Hypothesis  9 non-null      object\n",
      " 1   Reach       9 non-null      int64 \n",
      " 2   Impact      9 non-null      int64 \n",
      " 3   Confidence  9 non-null      int64 \n",
      " 4   Effort      9 non-null      int64 \n",
      "dtypes: int64(4), object(1)\n",
      "memory usage: 488.0+ bytes\n"
     ]
    }
   ],
   "source": [
    "# informações de df\n",
    "df_hyp.info()"
   ]
  },
  {
   "cell_type": "code",
   "execution_count": 761,
   "metadata": {},
   "outputs": [
    {
     "name": "stdout",
     "output_type": "stream",
     "text": [
      "0    Add two new channels for attracting traffic. T...\n",
      "1    Launch your own delivery service. This will sh...\n",
      "2    Add product recommendation blocks to the store...\n",
      "3    Change the category structure. This will incre...\n",
      "4    Change the background color on the main page. ...\n",
      "5    Add a customer review page. This will increase...\n",
      "6    Show banners with current offers and sales on ...\n",
      "7    Add a subscription form to all the main pages....\n",
      "8    Launch a promotion that gives users discounts ...\n",
      "Name: Hypothesis, dtype: object\n"
     ]
    }
   ],
   "source": [
    "print(df_hyp['Hypothesis'])"
   ]
  },
  {
   "cell_type": "markdown",
   "metadata": {},
   "source": [
    "**Conclusão Intermediária**\n",
    "\n",
    "Podemos ver que os dados estão nos tipos corretos.\n",
    "\n",
    "A única correção que iremos fazer é separar os dados da coluna Hypothesis, pois no modelo proposto tem se em uma coluna o seguinte padrão \n",
    "\n",
    "Ação + '.' + Reação\n",
    "\n",
    "Por exemplo na primeira linha:\n",
    "\n",
    "- Adicionar dois canais. Irá gerar....\n",
    "\n",
    "\n",
    "Assim iremos separar tudo que está após o ponto.\n",
    "\n",
    "Além disso, iremos deixar as colunas fora do modelo snake_case para essa parte do projeto."
   ]
  },
  {
   "cell_type": "markdown",
   "metadata": {},
   "source": [
    "### Limpeza dos dados"
   ]
  },
  {
   "cell_type": "code",
   "execution_count": 762,
   "metadata": {},
   "outputs": [],
   "source": [
    "# Extrair o texto após o ponto e adicionar à coluna \"Reaction\"\n",
    "df_hyp['Reaction'] = df_hyp['Hypothesis'].str.split('.').str[1].str.strip()\n",
    "\n",
    "# Remover a parte após o ponto da coluna \"Hypothesis\"\n",
    "df_hyp['Hypothesis'] = df_hyp['Hypothesis'].str.split('.').str[0].str.strip()"
   ]
  },
  {
   "cell_type": "code",
   "execution_count": 763,
   "metadata": {},
   "outputs": [
    {
     "data": {
      "text/html": [
       "<div>\n",
       "<style scoped>\n",
       "    .dataframe tbody tr th:only-of-type {\n",
       "        vertical-align: middle;\n",
       "    }\n",
       "\n",
       "    .dataframe tbody tr th {\n",
       "        vertical-align: top;\n",
       "    }\n",
       "\n",
       "    .dataframe thead th {\n",
       "        text-align: right;\n",
       "    }\n",
       "</style>\n",
       "<table border=\"1\" class=\"dataframe\">\n",
       "  <thead>\n",
       "    <tr style=\"text-align: right;\">\n",
       "      <th></th>\n",
       "      <th>Hypothesis</th>\n",
       "      <th>Reach</th>\n",
       "      <th>Impact</th>\n",
       "      <th>Confidence</th>\n",
       "      <th>Effort</th>\n",
       "      <th>Reaction</th>\n",
       "    </tr>\n",
       "  </thead>\n",
       "  <tbody>\n",
       "    <tr>\n",
       "      <th>0</th>\n",
       "      <td>Add two new channels for attracting traffic</td>\n",
       "      <td>3</td>\n",
       "      <td>10</td>\n",
       "      <td>8</td>\n",
       "      <td>6</td>\n",
       "      <td>This will bring 30% more users</td>\n",
       "    </tr>\n",
       "    <tr>\n",
       "      <th>1</th>\n",
       "      <td>Launch your own delivery service</td>\n",
       "      <td>2</td>\n",
       "      <td>5</td>\n",
       "      <td>4</td>\n",
       "      <td>10</td>\n",
       "      <td>This will shorten delivery time</td>\n",
       "    </tr>\n",
       "    <tr>\n",
       "      <th>2</th>\n",
       "      <td>Add product recommendation blocks to the store...</td>\n",
       "      <td>8</td>\n",
       "      <td>3</td>\n",
       "      <td>7</td>\n",
       "      <td>3</td>\n",
       "      <td>This will increase conversion and average purc...</td>\n",
       "    </tr>\n",
       "    <tr>\n",
       "      <th>3</th>\n",
       "      <td>Change the category structure</td>\n",
       "      <td>8</td>\n",
       "      <td>3</td>\n",
       "      <td>3</td>\n",
       "      <td>8</td>\n",
       "      <td>This will increase conversion since users will...</td>\n",
       "    </tr>\n",
       "    <tr>\n",
       "      <th>4</th>\n",
       "      <td>Change the background color on the main page</td>\n",
       "      <td>3</td>\n",
       "      <td>1</td>\n",
       "      <td>1</td>\n",
       "      <td>1</td>\n",
       "      <td>This will increase user engagement</td>\n",
       "    </tr>\n",
       "  </tbody>\n",
       "</table>\n",
       "</div>"
      ],
      "text/plain": [
       "                                          Hypothesis  Reach  Impact  \\\n",
       "0        Add two new channels for attracting traffic      3      10   \n",
       "1                   Launch your own delivery service      2       5   \n",
       "2  Add product recommendation blocks to the store...      8       3   \n",
       "3                      Change the category structure      8       3   \n",
       "4       Change the background color on the main page      3       1   \n",
       "\n",
       "   Confidence  Effort                                           Reaction  \n",
       "0           8       6                     This will bring 30% more users  \n",
       "1           4      10                    This will shorten delivery time  \n",
       "2           7       3  This will increase conversion and average purc...  \n",
       "3           3       8  This will increase conversion since users will...  \n",
       "4           1       1                 This will increase user engagement  "
      ]
     },
     "execution_count": 763,
     "metadata": {},
     "output_type": "execute_result"
    }
   ],
   "source": [
    "# mostrando df\n",
    "df_hyp.head()"
   ]
  },
  {
   "cell_type": "markdown",
   "metadata": {},
   "source": [
    "**Conclusão**\n",
    "\n",
    "Agora podemos ver que a Dataframe ficou mais limpa temos dados separados pela hipótese e pela reação que poderia gerar a partir desta hipótese. Iremos prosseguir para a análise RICE E ICE proposto."
   ]
  },
  {
   "cell_type": "markdown",
   "metadata": {},
   "source": [
    "### Análise dos dados de hipótese\n",
    "\n",
    "Iremos agora utilizar os frameworks RICE e ICE para gerar uma prioridade para as hipóteses geradas pela equipe.\n",
    "\n",
    "Iremos classificar ambos em ordem decrescente."
   ]
  },
  {
   "cell_type": "markdown",
   "metadata": {},
   "source": [
    "### Framework RICE"
   ]
  },
  {
   "cell_type": "code",
   "execution_count": 764,
   "metadata": {},
   "outputs": [],
   "source": [
    "# Criando uma cópia de nossa df para framework RICE\n",
    "df_rice = df_hyp.copy()"
   ]
  },
  {
   "cell_type": "code",
   "execution_count": 765,
   "metadata": {},
   "outputs": [
    {
     "data": {
      "text/html": [
       "<div>\n",
       "<style scoped>\n",
       "    .dataframe tbody tr th:only-of-type {\n",
       "        vertical-align: middle;\n",
       "    }\n",
       "\n",
       "    .dataframe tbody tr th {\n",
       "        vertical-align: top;\n",
       "    }\n",
       "\n",
       "    .dataframe thead th {\n",
       "        text-align: right;\n",
       "    }\n",
       "</style>\n",
       "<table border=\"1\" class=\"dataframe\">\n",
       "  <thead>\n",
       "    <tr style=\"text-align: right;\">\n",
       "      <th></th>\n",
       "      <th>Hypothesis</th>\n",
       "      <th>RICE</th>\n",
       "    </tr>\n",
       "  </thead>\n",
       "  <tbody>\n",
       "    <tr>\n",
       "      <th>7</th>\n",
       "      <td>Add a subscription form to all the main pages</td>\n",
       "      <td>112</td>\n",
       "    </tr>\n",
       "    <tr>\n",
       "      <th>2</th>\n",
       "      <td>Add product recommendation blocks to the store...</td>\n",
       "      <td>56</td>\n",
       "    </tr>\n",
       "    <tr>\n",
       "      <th>0</th>\n",
       "      <td>Add two new channels for attracting traffic</td>\n",
       "      <td>40</td>\n",
       "    </tr>\n",
       "    <tr>\n",
       "      <th>6</th>\n",
       "      <td>Show banners with current offers and sales on ...</td>\n",
       "      <td>40</td>\n",
       "    </tr>\n",
       "    <tr>\n",
       "      <th>8</th>\n",
       "      <td>Launch a promotion that gives users discounts ...</td>\n",
       "      <td>16</td>\n",
       "    </tr>\n",
       "    <tr>\n",
       "      <th>3</th>\n",
       "      <td>Change the category structure</td>\n",
       "      <td>9</td>\n",
       "    </tr>\n",
       "    <tr>\n",
       "      <th>1</th>\n",
       "      <td>Launch your own delivery service</td>\n",
       "      <td>4</td>\n",
       "    </tr>\n",
       "    <tr>\n",
       "      <th>5</th>\n",
       "      <td>Add a customer review page</td>\n",
       "      <td>4</td>\n",
       "    </tr>\n",
       "    <tr>\n",
       "      <th>4</th>\n",
       "      <td>Change the background color on the main page</td>\n",
       "      <td>3</td>\n",
       "    </tr>\n",
       "  </tbody>\n",
       "</table>\n",
       "</div>"
      ],
      "text/plain": [
       "                                          Hypothesis  RICE\n",
       "7      Add a subscription form to all the main pages   112\n",
       "2  Add product recommendation blocks to the store...    56\n",
       "0        Add two new channels for attracting traffic    40\n",
       "6  Show banners with current offers and sales on ...    40\n",
       "8  Launch a promotion that gives users discounts ...    16\n",
       "3                      Change the category structure     9\n",
       "1                   Launch your own delivery service     4\n",
       "5                         Add a customer review page     4\n",
       "4       Change the background color on the main page     3"
      ]
     },
     "execution_count": 765,
     "metadata": {},
     "output_type": "execute_result"
    }
   ],
   "source": [
    "# Aplicando o framework\n",
    "\n",
    "df_rice['RICE'] = (df_rice['Reach']*df_rice['Impact']*df_rice['Confidence'])/df_rice['Effort']\n",
    "\n",
    "df_rice['RICE'] = df_rice['RICE'].astype(int)\n",
    "\n",
    "df_rice[['Hypothesis', 'RICE']].sort_values(by='RICE', ascending=False)"
   ]
  },
  {
   "cell_type": "markdown",
   "metadata": {},
   "source": [
    "**Conclusão**\n",
    "\n",
    "Podemos tirar as seguintes conclusões:\n",
    "\n",
    "* A hipótese \"Add a subscription form to all the main pages\" possui a pontuação RICE mais alta, com um valor de 112.0. Isso indica que essa hipótese tem um alto potencial de impacto, confiança e alcance, considerando um esforço moderado. Portanto, essa hipótese pode ser considerada como uma das principais prioridades para implementação.\n",
    "\n",
    "* As hipóteses \"Add product recommendation blocks to the store...\" e \"Show banners with current offers and sales on...\" possuem pontuações RICE iguais, com um valor de 56.0. Isso indica que ambas as hipóteses têm um bom potencial de impacto, confiança e alcance, considerando um esforço moderado. Essas hipóteses também são consideradas como prioridades, embora um pouco abaixo da primeira hipótese.\n",
    "\n",
    "* As hipóteses \"Add two new channels for attracting traffic\" e \"Launch a promotion that gives users discounts...\" possuem pontuações RICE mais baixas, com valores de 40.0 e 16.2, respectivamente. Isso indica que essas hipóteses têm um potencial de impacto e confiança moderados, mas com um alcance mais limitado. No entanto, considerando o esforço necessário, ainda podem ser consideradas como opções viáveis para implementação.\n",
    "\n",
    "* As hipóteses restantes - \"Change the category structure\", \"Launch your own delivery service\", \"Add a customer review page\" e \"Change the background color on the main page\" - possuem pontuações RICE mais baixas, indicando menor potencial de impacto, confiança e alcance em relação às outras hipóteses. Portanto, essas hipóteses podem ser consideradas como de menor prioridade para implementação.\n",
    "\n",
    "Em resumo, com base nos resultados do teste RICE, recomenda-se priorizar as hipóteses com pontuações mais altas, pois elas apresentam um maior potencial de impacto e eficiência considerando o alcance, confiança e esforço envolvidos."
   ]
  },
  {
   "cell_type": "markdown",
   "metadata": {},
   "source": [
    "### Framework ICE"
   ]
  },
  {
   "cell_type": "code",
   "execution_count": 766,
   "metadata": {},
   "outputs": [],
   "source": [
    "# Criando uma cópia de nossa df para framework RICE\n",
    "df_ice = df_hyp.copy()"
   ]
  },
  {
   "cell_type": "code",
   "execution_count": 767,
   "metadata": {},
   "outputs": [
    {
     "data": {
      "text/html": [
       "<div>\n",
       "<style scoped>\n",
       "    .dataframe tbody tr th:only-of-type {\n",
       "        vertical-align: middle;\n",
       "    }\n",
       "\n",
       "    .dataframe tbody tr th {\n",
       "        vertical-align: top;\n",
       "    }\n",
       "\n",
       "    .dataframe thead th {\n",
       "        text-align: right;\n",
       "    }\n",
       "</style>\n",
       "<table border=\"1\" class=\"dataframe\">\n",
       "  <thead>\n",
       "    <tr style=\"text-align: right;\">\n",
       "      <th></th>\n",
       "      <th>Hypothesis</th>\n",
       "      <th>ICE</th>\n",
       "    </tr>\n",
       "  </thead>\n",
       "  <tbody>\n",
       "    <tr>\n",
       "      <th>8</th>\n",
       "      <td>Launch a promotion that gives users discounts ...</td>\n",
       "      <td>16</td>\n",
       "    </tr>\n",
       "    <tr>\n",
       "      <th>0</th>\n",
       "      <td>Add two new channels for attracting traffic</td>\n",
       "      <td>13</td>\n",
       "    </tr>\n",
       "    <tr>\n",
       "      <th>7</th>\n",
       "      <td>Add a subscription form to all the main pages</td>\n",
       "      <td>11</td>\n",
       "    </tr>\n",
       "    <tr>\n",
       "      <th>6</th>\n",
       "      <td>Show banners with current offers and sales on ...</td>\n",
       "      <td>8</td>\n",
       "    </tr>\n",
       "    <tr>\n",
       "      <th>2</th>\n",
       "      <td>Add product recommendation blocks to the store...</td>\n",
       "      <td>7</td>\n",
       "    </tr>\n",
       "    <tr>\n",
       "      <th>1</th>\n",
       "      <td>Launch your own delivery service</td>\n",
       "      <td>2</td>\n",
       "    </tr>\n",
       "    <tr>\n",
       "      <th>3</th>\n",
       "      <td>Change the category structure</td>\n",
       "      <td>1</td>\n",
       "    </tr>\n",
       "    <tr>\n",
       "      <th>4</th>\n",
       "      <td>Change the background color on the main page</td>\n",
       "      <td>1</td>\n",
       "    </tr>\n",
       "    <tr>\n",
       "      <th>5</th>\n",
       "      <td>Add a customer review page</td>\n",
       "      <td>1</td>\n",
       "    </tr>\n",
       "  </tbody>\n",
       "</table>\n",
       "</div>"
      ],
      "text/plain": [
       "                                          Hypothesis  ICE\n",
       "8  Launch a promotion that gives users discounts ...   16\n",
       "0        Add two new channels for attracting traffic   13\n",
       "7      Add a subscription form to all the main pages   11\n",
       "6  Show banners with current offers and sales on ...    8\n",
       "2  Add product recommendation blocks to the store...    7\n",
       "1                   Launch your own delivery service    2\n",
       "3                      Change the category structure    1\n",
       "4       Change the background color on the main page    1\n",
       "5                         Add a customer review page    1"
      ]
     },
     "execution_count": 767,
     "metadata": {},
     "output_type": "execute_result"
    }
   ],
   "source": [
    "# Aplicando o framework\n",
    "\n",
    "df_ice['ICE'] = (df_ice['Impact']*df_ice['Confidence'])/df_ice['Effort']\n",
    "\n",
    "df_ice['ICE'] = df_ice['ICE'].astype(int)\n",
    "\n",
    "df_ice[['Hypothesis', 'ICE']].sort_values(by='ICE', ascending=False)"
   ]
  },
  {
   "cell_type": "markdown",
   "metadata": {},
   "source": [
    "**Conclusão**\n",
    "\n",
    "Podemos tirar as seguintes conclusões:\n",
    "\n",
    "* A hipótese com a maior pontuação ICE é \"Launch a promotion that gives users discounts\" com uma pontuação de 16. Isso indica que essa hipótese tem um alto potencial de impacto, confiança e exigirá um esforço moderado para implementação.\n",
    "\n",
    "* As hipóteses \"Add two new channels for attracting traffic\" e \"Add a subscription form to all the main pages\" também obtiveram pontuações elevadas, com 13 e 11 respectivamente. Isso sugere que essas hipóteses também têm um potencial significativo de impacto e confiança, embora o esforço necessário para implementação possa variar.\n",
    "\n",
    "* As hipóteses \"Show banners with current offers and sales on...\" e \"Add product recommendation blocks to the store...\" obtiveram pontuações moderadas, indicando um potencial de impacto e confiança razoáveis, com um esforço menor em comparação com as hipóteses anteriores.\n",
    "\n",
    "* As hipóteses restantes (Launch your own delivery service, Change the category structure, Change the background color on the main page, Add a customer review page) obtiveram pontuações mais baixas. Isso sugere que essas hipóteses podem ter um potencial de impacto e confiança limitados, além de exigirem um esforço maior para implementação.\n",
    "\n",
    "Com base nessas conclusões, recomenda-se que a empresa dê prioridade às hipóteses com pontuações mais altas no framework ICE, pois elas apresentam um potencial maior de impacto e confiança."
   ]
  },
  {
   "cell_type": "markdown",
   "metadata": {},
   "source": [
    "### Comparativo ICE x RICE\n",
    "\n",
    "Para melhor visualização iremos juntar as duas dataframes para melhor observação."
   ]
  },
  {
   "cell_type": "code",
   "execution_count": 768,
   "metadata": {},
   "outputs": [
    {
     "data": {
      "text/html": [
       "<div>\n",
       "<style scoped>\n",
       "    .dataframe tbody tr th:only-of-type {\n",
       "        vertical-align: middle;\n",
       "    }\n",
       "\n",
       "    .dataframe tbody tr th {\n",
       "        vertical-align: top;\n",
       "    }\n",
       "\n",
       "    .dataframe thead th {\n",
       "        text-align: right;\n",
       "    }\n",
       "</style>\n",
       "<table border=\"1\" class=\"dataframe\">\n",
       "  <thead>\n",
       "    <tr style=\"text-align: right;\">\n",
       "      <th></th>\n",
       "      <th>Hypothesis</th>\n",
       "      <th>ICE</th>\n",
       "      <th>RICE</th>\n",
       "    </tr>\n",
       "  </thead>\n",
       "  <tbody>\n",
       "    <tr>\n",
       "      <th>0</th>\n",
       "      <td>Add two new channels for attracting traffic</td>\n",
       "      <td>13</td>\n",
       "      <td>40</td>\n",
       "    </tr>\n",
       "    <tr>\n",
       "      <th>1</th>\n",
       "      <td>Launch your own delivery service</td>\n",
       "      <td>2</td>\n",
       "      <td>4</td>\n",
       "    </tr>\n",
       "    <tr>\n",
       "      <th>2</th>\n",
       "      <td>Add product recommendation blocks to the store...</td>\n",
       "      <td>7</td>\n",
       "      <td>56</td>\n",
       "    </tr>\n",
       "    <tr>\n",
       "      <th>3</th>\n",
       "      <td>Change the category structure</td>\n",
       "      <td>1</td>\n",
       "      <td>9</td>\n",
       "    </tr>\n",
       "    <tr>\n",
       "      <th>4</th>\n",
       "      <td>Change the background color on the main page</td>\n",
       "      <td>1</td>\n",
       "      <td>3</td>\n",
       "    </tr>\n",
       "    <tr>\n",
       "      <th>5</th>\n",
       "      <td>Add a customer review page</td>\n",
       "      <td>1</td>\n",
       "      <td>4</td>\n",
       "    </tr>\n",
       "    <tr>\n",
       "      <th>6</th>\n",
       "      <td>Show banners with current offers and sales on ...</td>\n",
       "      <td>8</td>\n",
       "      <td>40</td>\n",
       "    </tr>\n",
       "    <tr>\n",
       "      <th>7</th>\n",
       "      <td>Add a subscription form to all the main pages</td>\n",
       "      <td>11</td>\n",
       "      <td>112</td>\n",
       "    </tr>\n",
       "    <tr>\n",
       "      <th>8</th>\n",
       "      <td>Launch a promotion that gives users discounts ...</td>\n",
       "      <td>16</td>\n",
       "      <td>16</td>\n",
       "    </tr>\n",
       "  </tbody>\n",
       "</table>\n",
       "</div>"
      ],
      "text/plain": [
       "                                          Hypothesis  ICE  RICE\n",
       "0        Add two new channels for attracting traffic   13    40\n",
       "1                   Launch your own delivery service    2     4\n",
       "2  Add product recommendation blocks to the store...    7    56\n",
       "3                      Change the category structure    1     9\n",
       "4       Change the background color on the main page    1     3\n",
       "5                         Add a customer review page    1     4\n",
       "6  Show banners with current offers and sales on ...    8    40\n",
       "7      Add a subscription form to all the main pages   11   112\n",
       "8  Launch a promotion that gives users discounts ...   16    16"
      ]
     },
     "execution_count": 768,
     "metadata": {},
     "output_type": "execute_result"
    }
   ],
   "source": [
    "# merge nas dfs\n",
    "\n",
    "# Juntar as colunas \"Hypothesis\" e \"ICE\" do DataFrame df_ice com as colunas \"Hypothesis\" e \"RICE\" do DataFrame df_rice\n",
    "df_merged = df_ice[['Hypothesis', 'ICE']].merge(df_rice[['Hypothesis', 'RICE']], on='Hypothesis', how='inner')\n",
    "\n",
    "# Exibir o DataFrame resultante\n",
    "df_merged"
   ]
  },
  {
   "cell_type": "markdown",
   "metadata": {},
   "source": [
    "### Conclusão\n",
    "\n",
    "\n",
    "O framework ICE é um método de priorização de hipóteses que considera três componentes: Impacto, Confiança e Esforço. Nós calculamos a pontuação ICE multiplicando o Impacto pela Confiança e dividindo pelo Esforço.\n",
    "\n",
    "Já o framework RICE adiciona um quarto componente à equação ICE: Alcance. Nós calculamos a pontuação RICE multiplicando o Impacto, a Confiança e o Alcance e dividindo pelo Esforço.\n",
    "\n",
    "Ao compararmos as duas pontuações (RICE e ICE) da nossa tabela, podemos ver que a priorização de hipóteses sofre uma mudança significativa.\n",
    "\n",
    "Por exemplo, a hipótese \"Adicionar um formulário de inscrição a todas as principais páginas\" (índice 7) possui uma pontuação ICE de 11, mas uma pontuação RICE muito maior, de 112. Isso sugere que, embora o impacto, a confiança e o esforço possam ser moderados, o alcance dessa alteração é provavelmente muito alto, podendo afetar uma grande proporção de usuários.\n",
    "\n",
    "Da mesma forma, a hipótese \"Lançar uma promoção que dá descontos aos usuários\" (índice 8) possui uma pontuação ICE alta de 16, mas uma pontuação RICE igual a 16. Isso indica que o alcance dessa hipótese é relativamente baixo, e mesmo que o impacto, a confiança e o esforço sejam favoráveis, essa mudança só afetará uma pequena proporção de usuários.\n",
    "\n",
    "Portanto, ao utilizarmos RICE em vez de ICE, estamos considerando uma visão mais abrangente do impacto potencial das mudanças, levando em conta não apenas a magnitude do impacto, a confiança na estimativa e o esforço necessário, mas também o número de usuários que serão afetados. Isso pode levar a uma re-priorização das hipóteses, como podemos observar na tabela fornecida."
   ]
  },
  {
   "cell_type": "markdown",
   "metadata": {},
   "source": [
    "## Parte 2 - Teste A/ B\n",
    "\n",
    "Nesta seção do projeto, iremos analisar os resultados de um teste A/B realizado em sua empresa. Os dados do teste estão disponíveis nos arquivos \"orders_us.csv\" e \"visitors_us.csv\".\n",
    "\n",
    "A análise do teste A/B é essencial para avaliar o desempenho das diferentes variantes (grupo A e grupo B) e tomar decisões estratégicas com base nos resultados obtidos. Para isso, vamos realizar uma série de análises e visualizações dos dados.\n",
    "\n",
    "Aqui está o passo a passo que iremos seguir:\n",
    "\n",
    "1. Faremos um gráfico da receita acumulada por grupo. Essa análise nos ajudará a compreender se há diferenças significativas na geração de receita entre os grupos A e B. Com base nessa análise, poderemos tirar conclusões e criar conjecturas sobre a eficácia das variantes.\n",
    "\n",
    "2. Em seguida, faremos um gráfico do tamanho médio acumulado do pedido por grupo. Essa análise nos permitirá observar se o tamanho dos pedidos varia entre os grupos A e B ao longo do tempo. Novamente, com base nessa análise, poderemos tirar conclusões e criar conjecturas sobre o comportamento dos usuários em relação ao valor gasto.\n",
    "\n",
    "3. Faremos um gráfico da diferença relativa no tamanho médio acumulado do pedido para o grupo B em comparação com o grupo A. Essa análise nos ajudará a identificar se há uma diferença significativa entre os grupos em termos do valor médio dos pedidos. A partir dessa análise, poderemos tirar conclusões e criar conjecturas sobre possíveis tendências de gastos dos usuários.\n",
    "\n",
    "4. Calcularemos a taxa de conversão de cada grupo, ou seja, a proporção de pedidos para o número de visitas em cada dia. Traçaremos as taxas de conversão diárias dos dois grupos e descreveremos as diferenças observadas. Com base nessa análise, poderemos tirar conclusões e criar conjecturas sobre a eficácia das variantes em converter visitas em pedidos.\n",
    "\n",
    "5. Faremos um gráfico da diferença relativa na conversão cumulativa para o grupo B em comparação com o grupo A. Essa análise nos ajudará a identificar se há uma diferença significativa na taxa de conversão acumulada entre os grupos. Com base nessa análise, poderemos tirar conclusões e criar conjecturas sobre a eficácia das variantes em gerar conversões ao longo do tempo.\n",
    "\n",
    "6. Calcularemos os percentis 95 e 99 para o número de pedidos por usuário. Definiremos o ponto em que um ponto de dados se torna uma anomalia. Essa análise nos ajudará a identificar possíveis valores extremos ou comportamentos incomuns relacionados ao número de pedidos por usuário.\n",
    "\n",
    "7. Faremos um gráfico de dispersão dos preços dos pedidos. Com essa análise, poderemos identificar possíveis padrões ou agrupamentos nos preços dos pedidos e tirar conclusões a partir dessas observações.\n",
    "\n",
    "8. Calcularemos os percentis 95 e 99 dos preços dos pedidos. Definiremos o ponto em que um ponto de dados se torna uma anomalia. Essa análise nos ajudará a identificar valores extremos ou discrepantes nos preços dos pedidos.\n",
    "\n",
    "9. Encontraremos a significância estatística da diferença na conversão\n",
    "\n",
    " entre os grupos usando os dados brutos. Com base nessa análise, poderemos avaliar se há uma diferença estatisticamente significativa na taxa de conversão entre os grupos A e B.\n",
    "\n",
    "10. Encontraremos a significância estatística da diferença no tamanho médio do pedido entre os grupos usando os dados brutos. Essa análise nos ajudará a determinar se há uma diferença estatisticamente significativa no valor médio dos pedidos entre os grupos A e B.\n",
    "\n",
    "11. Encontraremos a significância estatística da diferença na conversão entre os grupos usando os dados filtrados. Com base nessa análise, poderemos avaliar se a diferença na taxa de conversão entre os grupos A e B é estatisticamente significativa após a aplicação de filtros ou exclusão de outliers.\n",
    "\n",
    "12. Encontraremos a significância estatística da diferença no tamanho médio do pedido entre os grupos usando os dados filtrados. Essa análise nos ajudará a determinar se a diferença no valor médio dos pedidos entre os grupos A e B é estatisticamente significativa após a aplicação de filtros ou exclusão de outliers.\n",
    "\n",
    "Por fim, com base em todas as análises e conclusões obtidas, tomaremos uma decisão sobre o teste. Essa decisão pode ser: 1) parar o teste e considerar um dos grupos como líder, 2) parar o teste e concluir que não há diferença significativa entre os grupos, ou 3) continuar o teste para obter mais dados e insights.\n",
    "\n",
    "Essas etapas nos ajudarão a compreender melhor os resultados do teste A/B e fornecerão subsídios importantes para a tomada de decisões estratégicas relacionadas à otimização dos recursos e maximização dos resultados da sua empresa.\n",
    "\n",
    "O passo a passo será feito por:\n",
    "\n",
    "* importar bibliotecas\n",
    "* importar dados\n",
    "* pré análise dos dados\n",
    "* limpeza dos dados\n",
    "* aplicação dos testes e geração de resultados"
   ]
  },
  {
   "cell_type": "markdown",
   "metadata": {},
   "source": [
    "### Importar bibliotecas"
   ]
  },
  {
   "cell_type": "code",
   "execution_count": 769,
   "metadata": {},
   "outputs": [],
   "source": [
    "# importando bibliotecas adicionais - já importamos pandas & numpy\n"
   ]
  },
  {
   "cell_type": "markdown",
   "metadata": {},
   "source": [
    "### Importando dados"
   ]
  },
  {
   "cell_type": "code",
   "execution_count": 770,
   "metadata": {},
   "outputs": [],
   "source": [
    "# abrindo a tabela orders_us.csv\n",
    "\n",
    "# Carregando dados no computador pessoal\n",
    "try:\n",
    "    df_orders = pd.read_csv(r'download/datasets/orders_us.csv')\n",
    "    \n",
    "# Carregando dados no JupyterHub\n",
    "except:\n",
    "    df_orders = pd.read_csv(r'/datasets/orders_us.csv')"
   ]
  },
  {
   "cell_type": "code",
   "execution_count": 771,
   "metadata": {},
   "outputs": [],
   "source": [
    "# abrindo a tabela visitors_us.csv.\n",
    "\n",
    "# Carregando dados no computador pessoal\n",
    "try:\n",
    "    df_visits = pd.read_csv(r'download/datasets/visitors_us.csv')\n",
    "    \n",
    "# Carregando dados no JupyterHub\n",
    "except:\n",
    "    df_visits = pd.read_csv(r'/datasets/visitors_us.csv')"
   ]
  },
  {
   "cell_type": "markdown",
   "metadata": {},
   "source": [
    "### Pré análise dos dados e limpeza"
   ]
  },
  {
   "cell_type": "markdown",
   "metadata": {},
   "source": [
    "#### Dados de Orders_us"
   ]
  },
  {
   "cell_type": "code",
   "execution_count": 772,
   "metadata": {},
   "outputs": [
    {
     "data": {
      "text/html": [
       "<div>\n",
       "<style scoped>\n",
       "    .dataframe tbody tr th:only-of-type {\n",
       "        vertical-align: middle;\n",
       "    }\n",
       "\n",
       "    .dataframe tbody tr th {\n",
       "        vertical-align: top;\n",
       "    }\n",
       "\n",
       "    .dataframe thead th {\n",
       "        text-align: right;\n",
       "    }\n",
       "</style>\n",
       "<table border=\"1\" class=\"dataframe\">\n",
       "  <thead>\n",
       "    <tr style=\"text-align: right;\">\n",
       "      <th></th>\n",
       "      <th>transactionId</th>\n",
       "      <th>visitorId</th>\n",
       "      <th>date</th>\n",
       "      <th>revenue</th>\n",
       "      <th>group</th>\n",
       "    </tr>\n",
       "  </thead>\n",
       "  <tbody>\n",
       "    <tr>\n",
       "      <th>0</th>\n",
       "      <td>3667963787</td>\n",
       "      <td>3312258926</td>\n",
       "      <td>2019-08-15</td>\n",
       "      <td>30.4</td>\n",
       "      <td>B</td>\n",
       "    </tr>\n",
       "    <tr>\n",
       "      <th>1</th>\n",
       "      <td>2804400009</td>\n",
       "      <td>3642806036</td>\n",
       "      <td>2019-08-15</td>\n",
       "      <td>15.2</td>\n",
       "      <td>B</td>\n",
       "    </tr>\n",
       "    <tr>\n",
       "      <th>2</th>\n",
       "      <td>2961555356</td>\n",
       "      <td>4069496402</td>\n",
       "      <td>2019-08-15</td>\n",
       "      <td>10.2</td>\n",
       "      <td>A</td>\n",
       "    </tr>\n",
       "    <tr>\n",
       "      <th>3</th>\n",
       "      <td>3797467345</td>\n",
       "      <td>1196621759</td>\n",
       "      <td>2019-08-15</td>\n",
       "      <td>155.1</td>\n",
       "      <td>B</td>\n",
       "    </tr>\n",
       "    <tr>\n",
       "      <th>4</th>\n",
       "      <td>2282983706</td>\n",
       "      <td>2322279887</td>\n",
       "      <td>2019-08-15</td>\n",
       "      <td>40.5</td>\n",
       "      <td>B</td>\n",
       "    </tr>\n",
       "  </tbody>\n",
       "</table>\n",
       "</div>"
      ],
      "text/plain": [
       "   transactionId   visitorId        date  revenue group\n",
       "0     3667963787  3312258926  2019-08-15     30.4     B\n",
       "1     2804400009  3642806036  2019-08-15     15.2     B\n",
       "2     2961555356  4069496402  2019-08-15     10.2     A\n",
       "3     3797467345  1196621759  2019-08-15    155.1     B\n",
       "4     2282983706  2322279887  2019-08-15     40.5     B"
      ]
     },
     "execution_count": 772,
     "metadata": {},
     "output_type": "execute_result"
    }
   ],
   "source": [
    "# mostrando dados\n",
    "df_orders.head()"
   ]
  },
  {
   "cell_type": "code",
   "execution_count": 773,
   "metadata": {},
   "outputs": [
    {
     "name": "stdout",
     "output_type": "stream",
     "text": [
      "<class 'pandas.core.frame.DataFrame'>\n",
      "RangeIndex: 1197 entries, 0 to 1196\n",
      "Data columns (total 5 columns):\n",
      " #   Column         Non-Null Count  Dtype  \n",
      "---  ------         --------------  -----  \n",
      " 0   transactionId  1197 non-null   int64  \n",
      " 1   visitorId      1197 non-null   int64  \n",
      " 2   date           1197 non-null   object \n",
      " 3   revenue        1197 non-null   float64\n",
      " 4   group          1197 non-null   object \n",
      "dtypes: float64(1), int64(2), object(2)\n",
      "memory usage: 46.9+ KB\n"
     ]
    }
   ],
   "source": [
    "# informações de df\n",
    "df_orders.info()"
   ]
  },
  {
   "cell_type": "markdown",
   "metadata": {},
   "source": [
    "**Conclusão Intermediária**\n",
    "\n",
    "De primeiro momento pode-se observar que não há um grande erro definitivo na tabela.\n",
    "\n",
    "Não há dados faltantes, a única correção seria a transformação da tabela date para Datetime.\n",
    "\n",
    "Iremos verificar se há algum visitorId que está inserido nos dois grupos, caso ele esteja iremos analisar o volume e retirar se possível, pois irá sujar nossa amostra."
   ]
  },
  {
   "cell_type": "code",
   "execution_count": 774,
   "metadata": {},
   "outputs": [
    {
     "name": "stdout",
     "output_type": "stream",
     "text": [
      "VisitorId presentes em ambos os grupos A e B:\n",
      "3957174400\n",
      "3984495233\n",
      "2780786433\n",
      "1294878855\n",
      "1648269707\n",
      "1614305549\n",
      "4120364173\n",
      "232979603\n",
      "199603092\n",
      "4266935830\n",
      "2712142231\n",
      "2587333274\n",
      "2716752286\n",
      "3891541246\n",
      "1668030113\n",
      "2654030115\n",
      "3234906277\n",
      "1230306981\n",
      "1404934699\n",
      "3803269165\n",
      "2949041841\n",
      "237748145\n",
      "457167155\n",
      "2927087541\n",
      "1738359350\n",
      "3062433592\n",
      "3656415546\n",
      "818047933\n",
      "393266494\n",
      "963407295\n",
      "471551937\n",
      "2579882178\n",
      "3202540741\n",
      "2686716486\n",
      "1333886533\n",
      "2044997962\n",
      "3941795274\n",
      "1801183820\n",
      "2378935119\n",
      "4256040402\n",
      "4069496402\n",
      "3766097110\n",
      "8300375\n",
      "351125977\n",
      "1602967004\n",
      "276558944\n",
      "2038680547\n",
      "3951559397\n",
      "3963646447\n",
      "4186807279\n",
      "3717692402\n",
      "1959144690\n",
      "2458001652\n",
      "2600415354\n",
      "2954449915\n",
      "1316129916\n",
      "477780734\n",
      "3972127743\n",
      "Número de ids é de 58\n"
     ]
    }
   ],
   "source": [
    "# Filtrando os visitorId únicos para cada grupo\n",
    "visitorId_group_A = set(df_orders[df_orders['group'] == 'A']['visitorId'].unique())\n",
    "visitorId_group_B = set(df_orders[df_orders['group'] == 'B']['visitorId'].unique())\n",
    "\n",
    "# Verificando os visitorId presentes em ambos os grupos\n",
    "visitorId_both_groups = visitorId_group_A.intersection(visitorId_group_B)\n",
    "\n",
    "# Calculando a contagem total de visitorId em ambos os grupos\n",
    "contagem_visitorId = len(visitorId_both_groups)\n",
    "\n",
    "# Exibindo os visitorId presentes em ambos os grupos\n",
    "print(\"VisitorId presentes em ambos os grupos A e B:\")\n",
    "for visitorId in visitorId_both_groups:\n",
    "    print(visitorId)\n",
    "\n",
    "print(f'Número de ids é de {contagem_visitorId}')"
   ]
  },
  {
   "cell_type": "markdown",
   "metadata": {},
   "source": [
    "**Conclusão Intermediária** \n",
    "\n",
    "Iremos retirar esses ids das amostrar e observar como vai se comportar a dataframe. Se ira diminuir muito o número de valores que possam afetar nossos testes."
   ]
  },
  {
   "cell_type": "code",
   "execution_count": 775,
   "metadata": {},
   "outputs": [
    {
     "name": "stdout",
     "output_type": "stream",
     "text": [
      "<class 'pandas.core.frame.DataFrame'>\n",
      "Int64Index: 1016 entries, 0 to 1196\n",
      "Data columns (total 5 columns):\n",
      " #   Column         Non-Null Count  Dtype  \n",
      "---  ------         --------------  -----  \n",
      " 0   transactionId  1016 non-null   int64  \n",
      " 1   visitorId      1016 non-null   int64  \n",
      " 2   date           1016 non-null   object \n",
      " 3   revenue        1016 non-null   float64\n",
      " 4   group          1016 non-null   object \n",
      "dtypes: float64(1), int64(2), object(2)\n",
      "memory usage: 47.6+ KB\n"
     ]
    }
   ],
   "source": [
    "# Removendo os IDs em ambos os grupos da DataFrame original\n",
    "df_orders = df_orders[~df_orders['visitorId'].isin(visitorId_both_groups)]\n",
    "\n",
    "# Exibindo a nova DataFrame sem os IDs em ambos os grupos\n",
    "df_orders.info()"
   ]
  },
  {
   "cell_type": "markdown",
   "metadata": {},
   "source": [
    "**Conclusão**\n",
    "\n",
    "Podemos ver que estatísticamente esse grupo retirado corresponde a um total, aproximado, de 10% do inicial. Esse valor é considerável, mas como os usuários participaram de ambos os grupos eles iriam sujar a amostra, pois poderiam gerar disturbios em suas ações dependendo de qual grupo estariam.\n",
    "\n",
    "Logo iremos decidir por ficar com o espaço amostral filtrado. Iremos agora como último passo transformar a coluna **date** em Datetime"
   ]
  },
  {
   "cell_type": "code",
   "execution_count": 776,
   "metadata": {},
   "outputs": [],
   "source": [
    "# Transformar a coluna \"date\" para o formato datetime\n",
    "df_orders['date'] = pd.to_datetime(df_orders['date'])"
   ]
  },
  {
   "cell_type": "markdown",
   "metadata": {},
   "source": [
    "#### Dados de df_visits"
   ]
  },
  {
   "cell_type": "code",
   "execution_count": 777,
   "metadata": {},
   "outputs": [
    {
     "data": {
      "text/html": [
       "<div>\n",
       "<style scoped>\n",
       "    .dataframe tbody tr th:only-of-type {\n",
       "        vertical-align: middle;\n",
       "    }\n",
       "\n",
       "    .dataframe tbody tr th {\n",
       "        vertical-align: top;\n",
       "    }\n",
       "\n",
       "    .dataframe thead th {\n",
       "        text-align: right;\n",
       "    }\n",
       "</style>\n",
       "<table border=\"1\" class=\"dataframe\">\n",
       "  <thead>\n",
       "    <tr style=\"text-align: right;\">\n",
       "      <th></th>\n",
       "      <th>date</th>\n",
       "      <th>group</th>\n",
       "      <th>visits</th>\n",
       "    </tr>\n",
       "  </thead>\n",
       "  <tbody>\n",
       "    <tr>\n",
       "      <th>0</th>\n",
       "      <td>2019-08-01</td>\n",
       "      <td>A</td>\n",
       "      <td>719</td>\n",
       "    </tr>\n",
       "    <tr>\n",
       "      <th>1</th>\n",
       "      <td>2019-08-02</td>\n",
       "      <td>A</td>\n",
       "      <td>619</td>\n",
       "    </tr>\n",
       "    <tr>\n",
       "      <th>2</th>\n",
       "      <td>2019-08-03</td>\n",
       "      <td>A</td>\n",
       "      <td>507</td>\n",
       "    </tr>\n",
       "    <tr>\n",
       "      <th>3</th>\n",
       "      <td>2019-08-04</td>\n",
       "      <td>A</td>\n",
       "      <td>717</td>\n",
       "    </tr>\n",
       "    <tr>\n",
       "      <th>4</th>\n",
       "      <td>2019-08-05</td>\n",
       "      <td>A</td>\n",
       "      <td>756</td>\n",
       "    </tr>\n",
       "  </tbody>\n",
       "</table>\n",
       "</div>"
      ],
      "text/plain": [
       "         date group  visits\n",
       "0  2019-08-01     A     719\n",
       "1  2019-08-02     A     619\n",
       "2  2019-08-03     A     507\n",
       "3  2019-08-04     A     717\n",
       "4  2019-08-05     A     756"
      ]
     },
     "execution_count": 777,
     "metadata": {},
     "output_type": "execute_result"
    }
   ],
   "source": [
    "# mostrando df\n",
    "df_visits.head()"
   ]
  },
  {
   "cell_type": "code",
   "execution_count": 778,
   "metadata": {},
   "outputs": [
    {
     "name": "stdout",
     "output_type": "stream",
     "text": [
      "<class 'pandas.core.frame.DataFrame'>\n",
      "RangeIndex: 62 entries, 0 to 61\n",
      "Data columns (total 3 columns):\n",
      " #   Column  Non-Null Count  Dtype \n",
      "---  ------  --------------  ----- \n",
      " 0   date    62 non-null     object\n",
      " 1   group   62 non-null     object\n",
      " 2   visits  62 non-null     int64 \n",
      "dtypes: int64(1), object(2)\n",
      "memory usage: 1.6+ KB\n"
     ]
    }
   ],
   "source": [
    "# informação df\n",
    "df_visits.info()"
   ]
  },
  {
   "cell_type": "markdown",
   "metadata": {},
   "source": [
    "**Conclusão Intermediária**\n",
    "\n",
    "Podemos ver que a dataframe não é muito complexa, não tem valores nulos, e sua estrutura é simples de ler. O único ponto é que a coluna date não está formatada da maneira correta.\n",
    "\n",
    "Iremos, por via de precaução, retirar duplicatas, para mitigar o risco de que haja dados dos grupos com dias repitidos e análisar se há uma mudança evidente no volume de dados. "
   ]
  },
  {
   "cell_type": "code",
   "execution_count": 779,
   "metadata": {},
   "outputs": [
    {
     "name": "stdout",
     "output_type": "stream",
     "text": [
      "<class 'pandas.core.frame.DataFrame'>\n",
      "RangeIndex: 62 entries, 0 to 61\n",
      "Data columns (total 3 columns):\n",
      " #   Column  Non-Null Count  Dtype \n",
      "---  ------  --------------  ----- \n",
      " 0   date    62 non-null     object\n",
      " 1   group   62 non-null     object\n",
      " 2   visits  62 non-null     int64 \n",
      "dtypes: int64(1), object(2)\n",
      "memory usage: 1.6+ KB\n"
     ]
    }
   ],
   "source": [
    "# criando copia teste\n",
    "df_test = df_visits.copy()\n",
    "\n",
    "# removendo duplicatas\n",
    "df_test.drop_duplicates()\n",
    "\n",
    "# infos\n",
    "df_test.info()"
   ]
  },
  {
   "cell_type": "markdown",
   "metadata": {},
   "source": [
    "**Conclusão**\n",
    "\n",
    "Pelo nosso teste sabemos que não há dados duplicados, então parecem estar em boas condições para continuação. Iremos verificar agora se há dois grupos de fato (por via de precaução) e transformar a coluna date para date time"
   ]
  },
  {
   "cell_type": "code",
   "execution_count": 780,
   "metadata": {},
   "outputs": [
    {
     "data": {
      "text/plain": [
       "array(['A', 'B'], dtype=object)"
      ]
     },
     "execution_count": 780,
     "metadata": {},
     "output_type": "execute_result"
    }
   ],
   "source": [
    "# verificando coluna group\n",
    "df_visits['group'].unique()"
   ]
  },
  {
   "cell_type": "code",
   "execution_count": 781,
   "metadata": {},
   "outputs": [],
   "source": [
    "# Transformar a coluna \"date\" para o formato datetime\n",
    "df_visits['date'] = pd.to_datetime(df_visits['date'])"
   ]
  },
  {
   "cell_type": "code",
   "execution_count": 782,
   "metadata": {},
   "outputs": [
    {
     "name": "stdout",
     "output_type": "stream",
     "text": [
      "<class 'pandas.core.frame.DataFrame'>\n",
      "RangeIndex: 62 entries, 0 to 61\n",
      "Data columns (total 3 columns):\n",
      " #   Column  Non-Null Count  Dtype         \n",
      "---  ------  --------------  -----         \n",
      " 0   date    62 non-null     datetime64[ns]\n",
      " 1   group   62 non-null     object        \n",
      " 2   visits  62 non-null     int64         \n",
      "dtypes: datetime64[ns](1), int64(1), object(1)\n",
      "memory usage: 1.6+ KB\n"
     ]
    }
   ],
   "source": [
    "# info de df\n",
    "df_visits.info()"
   ]
  },
  {
   "cell_type": "markdown",
   "metadata": {},
   "source": [
    "### Resultados dos testes A/B\n",
    "\n",
    "Nessa seção iremos apresentar os dados e gráficos retirados dos testes A/B realizados pela equipe.\n",
    "\n",
    "Primeiramente, para recordar com maior clareza e rever os dados iremos chamar as Dataframes que limpamos para relemebrar e começar nossos testes"
   ]
  },
  {
   "cell_type": "code",
   "execution_count": 783,
   "metadata": {},
   "outputs": [
    {
     "data": {
      "text/html": [
       "<div>\n",
       "<style scoped>\n",
       "    .dataframe tbody tr th:only-of-type {\n",
       "        vertical-align: middle;\n",
       "    }\n",
       "\n",
       "    .dataframe tbody tr th {\n",
       "        vertical-align: top;\n",
       "    }\n",
       "\n",
       "    .dataframe thead th {\n",
       "        text-align: right;\n",
       "    }\n",
       "</style>\n",
       "<table border=\"1\" class=\"dataframe\">\n",
       "  <thead>\n",
       "    <tr style=\"text-align: right;\">\n",
       "      <th></th>\n",
       "      <th>transactionId</th>\n",
       "      <th>visitorId</th>\n",
       "      <th>date</th>\n",
       "      <th>revenue</th>\n",
       "      <th>group</th>\n",
       "    </tr>\n",
       "  </thead>\n",
       "  <tbody>\n",
       "    <tr>\n",
       "      <th>0</th>\n",
       "      <td>3667963787</td>\n",
       "      <td>3312258926</td>\n",
       "      <td>2019-08-15</td>\n",
       "      <td>30.4</td>\n",
       "      <td>B</td>\n",
       "    </tr>\n",
       "    <tr>\n",
       "      <th>1</th>\n",
       "      <td>2804400009</td>\n",
       "      <td>3642806036</td>\n",
       "      <td>2019-08-15</td>\n",
       "      <td>15.2</td>\n",
       "      <td>B</td>\n",
       "    </tr>\n",
       "    <tr>\n",
       "      <th>3</th>\n",
       "      <td>3797467345</td>\n",
       "      <td>1196621759</td>\n",
       "      <td>2019-08-15</td>\n",
       "      <td>155.1</td>\n",
       "      <td>B</td>\n",
       "    </tr>\n",
       "    <tr>\n",
       "      <th>4</th>\n",
       "      <td>2282983706</td>\n",
       "      <td>2322279887</td>\n",
       "      <td>2019-08-15</td>\n",
       "      <td>40.5</td>\n",
       "      <td>B</td>\n",
       "    </tr>\n",
       "    <tr>\n",
       "      <th>5</th>\n",
       "      <td>182168103</td>\n",
       "      <td>935554773</td>\n",
       "      <td>2019-08-15</td>\n",
       "      <td>35.0</td>\n",
       "      <td>B</td>\n",
       "    </tr>\n",
       "    <tr>\n",
       "      <th>...</th>\n",
       "      <td>...</td>\n",
       "      <td>...</td>\n",
       "      <td>...</td>\n",
       "      <td>...</td>\n",
       "      <td>...</td>\n",
       "    </tr>\n",
       "    <tr>\n",
       "      <th>1191</th>\n",
       "      <td>3592955527</td>\n",
       "      <td>608641596</td>\n",
       "      <td>2019-08-14</td>\n",
       "      <td>255.7</td>\n",
       "      <td>B</td>\n",
       "    </tr>\n",
       "    <tr>\n",
       "      <th>1192</th>\n",
       "      <td>2662137336</td>\n",
       "      <td>3733762160</td>\n",
       "      <td>2019-08-14</td>\n",
       "      <td>100.8</td>\n",
       "      <td>B</td>\n",
       "    </tr>\n",
       "    <tr>\n",
       "      <th>1193</th>\n",
       "      <td>2203539145</td>\n",
       "      <td>370388673</td>\n",
       "      <td>2019-08-14</td>\n",
       "      <td>50.1</td>\n",
       "      <td>A</td>\n",
       "    </tr>\n",
       "    <tr>\n",
       "      <th>1194</th>\n",
       "      <td>1807773912</td>\n",
       "      <td>573423106</td>\n",
       "      <td>2019-08-14</td>\n",
       "      <td>165.3</td>\n",
       "      <td>A</td>\n",
       "    </tr>\n",
       "    <tr>\n",
       "      <th>1196</th>\n",
       "      <td>3936777065</td>\n",
       "      <td>2108080724</td>\n",
       "      <td>2019-08-15</td>\n",
       "      <td>3120.1</td>\n",
       "      <td>B</td>\n",
       "    </tr>\n",
       "  </tbody>\n",
       "</table>\n",
       "<p>1016 rows × 5 columns</p>\n",
       "</div>"
      ],
      "text/plain": [
       "      transactionId   visitorId       date  revenue group\n",
       "0        3667963787  3312258926 2019-08-15     30.4     B\n",
       "1        2804400009  3642806036 2019-08-15     15.2     B\n",
       "3        3797467345  1196621759 2019-08-15    155.1     B\n",
       "4        2282983706  2322279887 2019-08-15     40.5     B\n",
       "5         182168103   935554773 2019-08-15     35.0     B\n",
       "...             ...         ...        ...      ...   ...\n",
       "1191     3592955527   608641596 2019-08-14    255.7     B\n",
       "1192     2662137336  3733762160 2019-08-14    100.8     B\n",
       "1193     2203539145   370388673 2019-08-14     50.1     A\n",
       "1194     1807773912   573423106 2019-08-14    165.3     A\n",
       "1196     3936777065  2108080724 2019-08-15   3120.1     B\n",
       "\n",
       "[1016 rows x 5 columns]"
      ]
     },
     "execution_count": 783,
     "metadata": {},
     "output_type": "execute_result"
    }
   ],
   "source": [
    "# Chamando df_orders\n",
    "\n",
    "df_orders"
   ]
  },
  {
   "cell_type": "code",
   "execution_count": 784,
   "metadata": {},
   "outputs": [
    {
     "data": {
      "text/html": [
       "<div>\n",
       "<style scoped>\n",
       "    .dataframe tbody tr th:only-of-type {\n",
       "        vertical-align: middle;\n",
       "    }\n",
       "\n",
       "    .dataframe tbody tr th {\n",
       "        vertical-align: top;\n",
       "    }\n",
       "\n",
       "    .dataframe thead th {\n",
       "        text-align: right;\n",
       "    }\n",
       "</style>\n",
       "<table border=\"1\" class=\"dataframe\">\n",
       "  <thead>\n",
       "    <tr style=\"text-align: right;\">\n",
       "      <th></th>\n",
       "      <th>date</th>\n",
       "      <th>group</th>\n",
       "      <th>visits</th>\n",
       "    </tr>\n",
       "  </thead>\n",
       "  <tbody>\n",
       "    <tr>\n",
       "      <th>0</th>\n",
       "      <td>2019-08-01</td>\n",
       "      <td>A</td>\n",
       "      <td>719</td>\n",
       "    </tr>\n",
       "    <tr>\n",
       "      <th>1</th>\n",
       "      <td>2019-08-02</td>\n",
       "      <td>A</td>\n",
       "      <td>619</td>\n",
       "    </tr>\n",
       "    <tr>\n",
       "      <th>2</th>\n",
       "      <td>2019-08-03</td>\n",
       "      <td>A</td>\n",
       "      <td>507</td>\n",
       "    </tr>\n",
       "    <tr>\n",
       "      <th>3</th>\n",
       "      <td>2019-08-04</td>\n",
       "      <td>A</td>\n",
       "      <td>717</td>\n",
       "    </tr>\n",
       "    <tr>\n",
       "      <th>4</th>\n",
       "      <td>2019-08-05</td>\n",
       "      <td>A</td>\n",
       "      <td>756</td>\n",
       "    </tr>\n",
       "    <tr>\n",
       "      <th>...</th>\n",
       "      <td>...</td>\n",
       "      <td>...</td>\n",
       "      <td>...</td>\n",
       "    </tr>\n",
       "    <tr>\n",
       "      <th>57</th>\n",
       "      <td>2019-08-27</td>\n",
       "      <td>B</td>\n",
       "      <td>720</td>\n",
       "    </tr>\n",
       "    <tr>\n",
       "      <th>58</th>\n",
       "      <td>2019-08-28</td>\n",
       "      <td>B</td>\n",
       "      <td>654</td>\n",
       "    </tr>\n",
       "    <tr>\n",
       "      <th>59</th>\n",
       "      <td>2019-08-29</td>\n",
       "      <td>B</td>\n",
       "      <td>531</td>\n",
       "    </tr>\n",
       "    <tr>\n",
       "      <th>60</th>\n",
       "      <td>2019-08-30</td>\n",
       "      <td>B</td>\n",
       "      <td>490</td>\n",
       "    </tr>\n",
       "    <tr>\n",
       "      <th>61</th>\n",
       "      <td>2019-08-31</td>\n",
       "      <td>B</td>\n",
       "      <td>718</td>\n",
       "    </tr>\n",
       "  </tbody>\n",
       "</table>\n",
       "<p>62 rows × 3 columns</p>\n",
       "</div>"
      ],
      "text/plain": [
       "         date group  visits\n",
       "0  2019-08-01     A     719\n",
       "1  2019-08-02     A     619\n",
       "2  2019-08-03     A     507\n",
       "3  2019-08-04     A     717\n",
       "4  2019-08-05     A     756\n",
       "..        ...   ...     ...\n",
       "57 2019-08-27     B     720\n",
       "58 2019-08-28     B     654\n",
       "59 2019-08-29     B     531\n",
       "60 2019-08-30     B     490\n",
       "61 2019-08-31     B     718\n",
       "\n",
       "[62 rows x 3 columns]"
      ]
     },
     "execution_count": 784,
     "metadata": {},
     "output_type": "execute_result"
    }
   ],
   "source": [
    "# Chamando df_visits\n",
    "\n",
    "df_visits"
   ]
  },
  {
   "cell_type": "markdown",
   "metadata": {},
   "source": [
    "Iremos iniciar com nossa análise dos testes A/B realizados."
   ]
  },
  {
   "cell_type": "markdown",
   "metadata": {},
   "source": [
    "#### Gráfico da receita acumulada por grupo"
   ]
  },
  {
   "cell_type": "code",
   "execution_count": 785,
   "metadata": {},
   "outputs": [
    {
     "data": {
      "text/html": [
       "<div>\n",
       "<style scoped>\n",
       "    .dataframe tbody tr th:only-of-type {\n",
       "        vertical-align: middle;\n",
       "    }\n",
       "\n",
       "    .dataframe tbody tr th {\n",
       "        vertical-align: top;\n",
       "    }\n",
       "\n",
       "    .dataframe thead th {\n",
       "        text-align: right;\n",
       "    }\n",
       "</style>\n",
       "<table border=\"1\" class=\"dataframe\">\n",
       "  <thead>\n",
       "    <tr style=\"text-align: right;\">\n",
       "      <th></th>\n",
       "      <th>group</th>\n",
       "      <th>revenue</th>\n",
       "    </tr>\n",
       "  </thead>\n",
       "  <tbody>\n",
       "    <tr>\n",
       "      <th>0</th>\n",
       "      <td>A</td>\n",
       "      <td>53212.0</td>\n",
       "    </tr>\n",
       "    <tr>\n",
       "      <th>1</th>\n",
       "      <td>B</td>\n",
       "      <td>79651.2</td>\n",
       "    </tr>\n",
       "  </tbody>\n",
       "</table>\n",
       "</div>"
      ],
      "text/plain": [
       "  group  revenue\n",
       "0     A  53212.0\n",
       "1     B  79651.2"
      ]
     },
     "execution_count": 785,
     "metadata": {},
     "output_type": "execute_result"
    }
   ],
   "source": [
    "# agrupando receita por grupo\n",
    "\n",
    "rev_group = df_orders.groupby('group')['revenue'].sum().reset_index()\n",
    "\n",
    "# chamando a df gerda\n",
    "rev_group"
   ]
  },
  {
   "cell_type": "code",
   "execution_count": 786,
   "metadata": {},
   "outputs": [
    {
     "data": {
      "image/png": "[encoded data removed]",
      "text/plain": [
       "<Figure size 1152x648 with 1 Axes>"
      ]
     },
     "metadata": {},
     "output_type": "display_data"
    }
   ],
   "source": [
    "# gerando gráfico\n",
    "\n",
    "# Gerando gráfico\n",
    "plt.figure(figsize=(16, 9))\n",
    "\n",
    "# extrair dados do DataFrame\n",
    "labels = rev_group['group']\n",
    "valor = rev_group['revenue']\n",
    "\n",
    "# Criar o gráfico de pizza\n",
    "plt.pie(valor, labels=labels, autopct='%1.1f%%')\n",
    "\n",
    "# Configurar título do gráfico\n",
    "plt.title('Gráfico da receita acumulada por grupo')\n",
    "\n",
    "# Exibir o gráfico\n",
    "plt.show()"
   ]
  },
  {
   "cell_type": "markdown",
   "metadata": {},
   "source": [
    "**Conclusão**\n",
    "\n",
    "Como conclusão podemos tirar que:\n",
    "\n",
    "* O Grupo B gerou mais receita acumulada com um total de, aproximadamente, 60% do total.\n",
    "\n",
    "* O Grupo A tem receita 20% menor que o Grupo B, uma diferença interessante\n",
    "\n",
    "* O testes realizados com o Grupo B geram mais receita."
   ]
  },
  {
   "cell_type": "markdown",
   "metadata": {},
   "source": [
    "#### Gráfico do ticket médio acumulado do pedido por grupo."
   ]
  },
  {
   "cell_type": "markdown",
   "metadata": {},
   "source": [
    "Em nosso documento de solicitação de análise foi pedido o 'tamanho médio', ao analisar podemos entender que no contexto se refere ao Ticket Médio. Iremos utilizar essa premissa para continuar."
   ]
  },
  {
   "cell_type": "code",
   "execution_count": 787,
   "metadata": {},
   "outputs": [
    {
     "data": {
      "text/html": [
       "<div>\n",
       "<style scoped>\n",
       "    .dataframe tbody tr th:only-of-type {\n",
       "        vertical-align: middle;\n",
       "    }\n",
       "\n",
       "    .dataframe tbody tr th {\n",
       "        vertical-align: top;\n",
       "    }\n",
       "\n",
       "    .dataframe thead th {\n",
       "        text-align: right;\n",
       "    }\n",
       "</style>\n",
       "<table border=\"1\" class=\"dataframe\">\n",
       "  <thead>\n",
       "    <tr style=\"text-align: right;\">\n",
       "      <th></th>\n",
       "      <th>group</th>\n",
       "      <th>revenue</th>\n",
       "    </tr>\n",
       "  </thead>\n",
       "  <tbody>\n",
       "    <tr>\n",
       "      <th>0</th>\n",
       "      <td>A</td>\n",
       "      <td>113.700855</td>\n",
       "    </tr>\n",
       "    <tr>\n",
       "      <th>1</th>\n",
       "      <td>B</td>\n",
       "      <td>145.348905</td>\n",
       "    </tr>\n",
       "  </tbody>\n",
       "</table>\n",
       "</div>"
      ],
      "text/plain": [
       "  group     revenue\n",
       "0     A  113.700855\n",
       "1     B  145.348905"
      ]
     },
     "execution_count": 787,
     "metadata": {},
     "output_type": "execute_result"
    }
   ],
   "source": [
    "# agrupando receita média por grupo\n",
    "\n",
    "rev_mean_group = df_orders.groupby('group')['revenue'].mean().reset_index()\n",
    "\n",
    "# chamando a df gerda\n",
    "rev_mean_group"
   ]
  },
  {
   "cell_type": "code",
   "execution_count": 788,
   "metadata": {},
   "outputs": [
    {
     "data": {
      "image/png": "[encoded data removed]",
      "text/plain": [
       "<Figure size 1152x648 with 1 Axes>"
      ]
     },
     "metadata": {
      "needs_background": "light"
     },
     "output_type": "display_data"
    }
   ],
   "source": [
    "# Gerando gráfico\n",
    "plt.figure(figsize=(16, 9))\n",
    "\n",
    "# Criar o gráfico de barras\n",
    "plt.bar(rev_mean_group['group'], rev_mean_group['revenue'])\n",
    "\n",
    "# Adicionar os valores nas barras\n",
    "for i, value in enumerate(rev_mean_group['revenue']):\n",
    "    plt.text(i, value, str(value), ha='center', va='bottom')\n",
    "\n",
    "# Configurar título do gráfico\n",
    "plt.title('Gráfico de Ticket Médio')\n",
    "\n",
    "# Configurar rótulos dos eixos\n",
    "plt.xlabel('Grupo')\n",
    "plt.ylabel('Ticket Médio')\n",
    "\n",
    "# Exibir o gráfico\n",
    "plt.show()"
   ]
  },
  {
   "cell_type": "markdown",
   "metadata": {},
   "source": [
    "**Conclusões**\n",
    "\n",
    "Como conclusão podemos tirar que:\n",
    "\n",
    "* O Grupo B além de gerar mais receita, apresenta um maior Ticket Médio nos pedidos.\n",
    "\n",
    "* Talvez o crescimento da receita está sendo afetada pelo crescimento do Ticket Médio. \n",
    "\n",
    "* O Ticket Médio do grupo B é, aproximadamente, 30% maior que o grupo A."
   ]
  },
  {
   "cell_type": "markdown",
   "metadata": {},
   "source": [
    "#### Gráfico da diferença relativa no tamanho médio acumulado do pedido para o grupo B em comparação com o grupo A.\n",
    "\n",
    "Iremos plotar um gráfico que irá avaliar a diferença de revenue entre ambos os grupos e criar um gráfico similar a análise anterior porem com a adição de uma barra com a diferença relativa no ticket médio."
   ]
  },
  {
   "cell_type": "code",
   "execution_count": 789,
   "metadata": {},
   "outputs": [],
   "source": [
    "# Calcular a diferença entre os valores de revenue\n",
    "diff_revenue = rev_mean_group.loc[1, 'revenue'] - rev_mean_group.loc[0, 'revenue']\n",
    "\n",
    "# Criar uma nova linha com a diferença\n",
    "diff_row = {'group': 'dif', 'revenue': diff_revenue}\n",
    "\n",
    "# Adicionar a nova linha ao DataFrame\n",
    "rev_mean_group = rev_mean_group.append(diff_row, ignore_index=True)"
   ]
  },
  {
   "cell_type": "code",
   "execution_count": 790,
   "metadata": {},
   "outputs": [
    {
     "data": {
      "text/html": [
       "<div>\n",
       "<style scoped>\n",
       "    .dataframe tbody tr th:only-of-type {\n",
       "        vertical-align: middle;\n",
       "    }\n",
       "\n",
       "    .dataframe tbody tr th {\n",
       "        vertical-align: top;\n",
       "    }\n",
       "\n",
       "    .dataframe thead th {\n",
       "        text-align: right;\n",
       "    }\n",
       "</style>\n",
       "<table border=\"1\" class=\"dataframe\">\n",
       "  <thead>\n",
       "    <tr style=\"text-align: right;\">\n",
       "      <th></th>\n",
       "      <th>group</th>\n",
       "      <th>revenue</th>\n",
       "    </tr>\n",
       "  </thead>\n",
       "  <tbody>\n",
       "    <tr>\n",
       "      <th>0</th>\n",
       "      <td>A</td>\n",
       "      <td>113.700855</td>\n",
       "    </tr>\n",
       "    <tr>\n",
       "      <th>1</th>\n",
       "      <td>B</td>\n",
       "      <td>145.348905</td>\n",
       "    </tr>\n",
       "    <tr>\n",
       "      <th>2</th>\n",
       "      <td>dif</td>\n",
       "      <td>31.648050</td>\n",
       "    </tr>\n",
       "  </tbody>\n",
       "</table>\n",
       "</div>"
      ],
      "text/plain": [
       "  group     revenue\n",
       "0     A  113.700855\n",
       "1     B  145.348905\n",
       "2   dif   31.648050"
      ]
     },
     "execution_count": 790,
     "metadata": {},
     "output_type": "execute_result"
    }
   ],
   "source": [
    "rev_mean_group"
   ]
  },
  {
   "cell_type": "code",
   "execution_count": 791,
   "metadata": {},
   "outputs": [
    {
     "data": {
      "image/png": "[encoded data removed]",
      "text/plain": [
       "<Figure size 1152x648 with 1 Axes>"
      ]
     },
     "metadata": {
      "needs_background": "light"
     },
     "output_type": "display_data"
    }
   ],
   "source": [
    "# Gerando gráfico\n",
    "plt.figure(figsize=(16, 9))\n",
    "\n",
    "# Criar o gráfico de barras\n",
    "plt.bar(rev_mean_group['group'], rev_mean_group['revenue'])\n",
    "\n",
    "# Criar o gráfico de barras\n",
    "for i, value in enumerate(rev_mean_group['revenue']):\n",
    "    if rev_mean_group.loc[i, 'group'] == 'dif':\n",
    "        plt.bar(rev_mean_group.loc[i, 'group'], value, color='red')\n",
    "    else:\n",
    "        plt.bar(rev_mean_group.loc[i, 'group'], value)\n",
    "\n",
    "# Adicionar rótulos para cada barra\n",
    "for i, value in enumerate(rev_mean_group['revenue']):\n",
    "    plt.text(i, value, str(round(value, 2)), ha='center', va='bottom')\n",
    "\n",
    "# Configurar título e rótulos dos eixos\n",
    "plt.title('Ticket Médio e sua Diferença Relativa')\n",
    "plt.xlabel('Grupo')\n",
    "plt.ylabel('Ticket Médio')\n",
    "\n",
    "# Exibir o gráfico\n",
    "plt.show()"
   ]
  },
  {
   "cell_type": "markdown",
   "metadata": {},
   "source": [
    "**Conclusão**\n",
    "\n",
    "Como conclusão podemos tirar que:\n",
    "\n",
    "* O grupo B teve um ticket médio de 145.35, enquanto o grupo A teve um ticket médio de 113.70.\n",
    "\n",
    "* A diferença entre os grupos B e A foi de 31.65 no valor do ticket médio.\n",
    "\n",
    "* A diferença representa aproximadamente 27.8% a mais de receita no grupo B em comparação com o grupo A.\n",
    "\n",
    "* Os testes realizados indicam que o grupo B gerou mais receita acumulada.\n",
    "\n",
    "* Esses resultados ressaltam a importância de analisar e comparar os desempenhos de diferentes grupos para identificar variações significativas e tomar decisões estratégicas adequadas.\n"
   ]
  },
  {
   "cell_type": "markdown",
   "metadata": {},
   "source": [
    "#### Taxa de conversão de cada grupo como a proporção de pedidos para o número de visitas para cada dia e taxas de conversão diárias dos dois grupos"
   ]
  },
  {
   "cell_type": "markdown",
   "metadata": {},
   "source": [
    "Iremos chamar nossas duas dataframes originais para análisar como podemos conectarlas e realizar os cálculos necessários para a geração do gráfico final"
   ]
  },
  {
   "cell_type": "code",
   "execution_count": 792,
   "metadata": {},
   "outputs": [
    {
     "data": {
      "text/html": [
       "<div>\n",
       "<style scoped>\n",
       "    .dataframe tbody tr th:only-of-type {\n",
       "        vertical-align: middle;\n",
       "    }\n",
       "\n",
       "    .dataframe tbody tr th {\n",
       "        vertical-align: top;\n",
       "    }\n",
       "\n",
       "    .dataframe thead th {\n",
       "        text-align: right;\n",
       "    }\n",
       "</style>\n",
       "<table border=\"1\" class=\"dataframe\">\n",
       "  <thead>\n",
       "    <tr style=\"text-align: right;\">\n",
       "      <th></th>\n",
       "      <th>date</th>\n",
       "      <th>group</th>\n",
       "      <th>visits</th>\n",
       "    </tr>\n",
       "  </thead>\n",
       "  <tbody>\n",
       "    <tr>\n",
       "      <th>0</th>\n",
       "      <td>2019-08-01</td>\n",
       "      <td>A</td>\n",
       "      <td>719</td>\n",
       "    </tr>\n",
       "    <tr>\n",
       "      <th>1</th>\n",
       "      <td>2019-08-02</td>\n",
       "      <td>A</td>\n",
       "      <td>619</td>\n",
       "    </tr>\n",
       "    <tr>\n",
       "      <th>2</th>\n",
       "      <td>2019-08-03</td>\n",
       "      <td>A</td>\n",
       "      <td>507</td>\n",
       "    </tr>\n",
       "    <tr>\n",
       "      <th>3</th>\n",
       "      <td>2019-08-04</td>\n",
       "      <td>A</td>\n",
       "      <td>717</td>\n",
       "    </tr>\n",
       "    <tr>\n",
       "      <th>4</th>\n",
       "      <td>2019-08-05</td>\n",
       "      <td>A</td>\n",
       "      <td>756</td>\n",
       "    </tr>\n",
       "    <tr>\n",
       "      <th>...</th>\n",
       "      <td>...</td>\n",
       "      <td>...</td>\n",
       "      <td>...</td>\n",
       "    </tr>\n",
       "    <tr>\n",
       "      <th>57</th>\n",
       "      <td>2019-08-27</td>\n",
       "      <td>B</td>\n",
       "      <td>720</td>\n",
       "    </tr>\n",
       "    <tr>\n",
       "      <th>58</th>\n",
       "      <td>2019-08-28</td>\n",
       "      <td>B</td>\n",
       "      <td>654</td>\n",
       "    </tr>\n",
       "    <tr>\n",
       "      <th>59</th>\n",
       "      <td>2019-08-29</td>\n",
       "      <td>B</td>\n",
       "      <td>531</td>\n",
       "    </tr>\n",
       "    <tr>\n",
       "      <th>60</th>\n",
       "      <td>2019-08-30</td>\n",
       "      <td>B</td>\n",
       "      <td>490</td>\n",
       "    </tr>\n",
       "    <tr>\n",
       "      <th>61</th>\n",
       "      <td>2019-08-31</td>\n",
       "      <td>B</td>\n",
       "      <td>718</td>\n",
       "    </tr>\n",
       "  </tbody>\n",
       "</table>\n",
       "<p>62 rows × 3 columns</p>\n",
       "</div>"
      ],
      "text/plain": [
       "         date group  visits\n",
       "0  2019-08-01     A     719\n",
       "1  2019-08-02     A     619\n",
       "2  2019-08-03     A     507\n",
       "3  2019-08-04     A     717\n",
       "4  2019-08-05     A     756\n",
       "..        ...   ...     ...\n",
       "57 2019-08-27     B     720\n",
       "58 2019-08-28     B     654\n",
       "59 2019-08-29     B     531\n",
       "60 2019-08-30     B     490\n",
       "61 2019-08-31     B     718\n",
       "\n",
       "[62 rows x 3 columns]"
      ]
     },
     "execution_count": 792,
     "metadata": {},
     "output_type": "execute_result"
    }
   ],
   "source": [
    "# chamando df_visits\n",
    "\n",
    "df_visits"
   ]
  },
  {
   "cell_type": "code",
   "execution_count": 793,
   "metadata": {},
   "outputs": [
    {
     "data": {
      "text/html": [
       "<div>\n",
       "<style scoped>\n",
       "    .dataframe tbody tr th:only-of-type {\n",
       "        vertical-align: middle;\n",
       "    }\n",
       "\n",
       "    .dataframe tbody tr th {\n",
       "        vertical-align: top;\n",
       "    }\n",
       "\n",
       "    .dataframe thead th {\n",
       "        text-align: right;\n",
       "    }\n",
       "</style>\n",
       "<table border=\"1\" class=\"dataframe\">\n",
       "  <thead>\n",
       "    <tr style=\"text-align: right;\">\n",
       "      <th></th>\n",
       "      <th>transactionId</th>\n",
       "      <th>visitorId</th>\n",
       "      <th>date</th>\n",
       "      <th>revenue</th>\n",
       "      <th>group</th>\n",
       "    </tr>\n",
       "  </thead>\n",
       "  <tbody>\n",
       "    <tr>\n",
       "      <th>0</th>\n",
       "      <td>3667963787</td>\n",
       "      <td>3312258926</td>\n",
       "      <td>2019-08-15</td>\n",
       "      <td>30.4</td>\n",
       "      <td>B</td>\n",
       "    </tr>\n",
       "    <tr>\n",
       "      <th>1</th>\n",
       "      <td>2804400009</td>\n",
       "      <td>3642806036</td>\n",
       "      <td>2019-08-15</td>\n",
       "      <td>15.2</td>\n",
       "      <td>B</td>\n",
       "    </tr>\n",
       "    <tr>\n",
       "      <th>3</th>\n",
       "      <td>3797467345</td>\n",
       "      <td>1196621759</td>\n",
       "      <td>2019-08-15</td>\n",
       "      <td>155.1</td>\n",
       "      <td>B</td>\n",
       "    </tr>\n",
       "    <tr>\n",
       "      <th>4</th>\n",
       "      <td>2282983706</td>\n",
       "      <td>2322279887</td>\n",
       "      <td>2019-08-15</td>\n",
       "      <td>40.5</td>\n",
       "      <td>B</td>\n",
       "    </tr>\n",
       "    <tr>\n",
       "      <th>5</th>\n",
       "      <td>182168103</td>\n",
       "      <td>935554773</td>\n",
       "      <td>2019-08-15</td>\n",
       "      <td>35.0</td>\n",
       "      <td>B</td>\n",
       "    </tr>\n",
       "    <tr>\n",
       "      <th>...</th>\n",
       "      <td>...</td>\n",
       "      <td>...</td>\n",
       "      <td>...</td>\n",
       "      <td>...</td>\n",
       "      <td>...</td>\n",
       "    </tr>\n",
       "    <tr>\n",
       "      <th>1191</th>\n",
       "      <td>3592955527</td>\n",
       "      <td>608641596</td>\n",
       "      <td>2019-08-14</td>\n",
       "      <td>255.7</td>\n",
       "      <td>B</td>\n",
       "    </tr>\n",
       "    <tr>\n",
       "      <th>1192</th>\n",
       "      <td>2662137336</td>\n",
       "      <td>3733762160</td>\n",
       "      <td>2019-08-14</td>\n",
       "      <td>100.8</td>\n",
       "      <td>B</td>\n",
       "    </tr>\n",
       "    <tr>\n",
       "      <th>1193</th>\n",
       "      <td>2203539145</td>\n",
       "      <td>370388673</td>\n",
       "      <td>2019-08-14</td>\n",
       "      <td>50.1</td>\n",
       "      <td>A</td>\n",
       "    </tr>\n",
       "    <tr>\n",
       "      <th>1194</th>\n",
       "      <td>1807773912</td>\n",
       "      <td>573423106</td>\n",
       "      <td>2019-08-14</td>\n",
       "      <td>165.3</td>\n",
       "      <td>A</td>\n",
       "    </tr>\n",
       "    <tr>\n",
       "      <th>1196</th>\n",
       "      <td>3936777065</td>\n",
       "      <td>2108080724</td>\n",
       "      <td>2019-08-15</td>\n",
       "      <td>3120.1</td>\n",
       "      <td>B</td>\n",
       "    </tr>\n",
       "  </tbody>\n",
       "</table>\n",
       "<p>1016 rows × 5 columns</p>\n",
       "</div>"
      ],
      "text/plain": [
       "      transactionId   visitorId       date  revenue group\n",
       "0        3667963787  3312258926 2019-08-15     30.4     B\n",
       "1        2804400009  3642806036 2019-08-15     15.2     B\n",
       "3        3797467345  1196621759 2019-08-15    155.1     B\n",
       "4        2282983706  2322279887 2019-08-15     40.5     B\n",
       "5         182168103   935554773 2019-08-15     35.0     B\n",
       "...             ...         ...        ...      ...   ...\n",
       "1191     3592955527   608641596 2019-08-14    255.7     B\n",
       "1192     2662137336  3733762160 2019-08-14    100.8     B\n",
       "1193     2203539145   370388673 2019-08-14     50.1     A\n",
       "1194     1807773912   573423106 2019-08-14    165.3     A\n",
       "1196     3936777065  2108080724 2019-08-15   3120.1     B\n",
       "\n",
       "[1016 rows x 5 columns]"
      ]
     },
     "execution_count": 793,
     "metadata": {},
     "output_type": "execute_result"
    }
   ],
   "source": [
    "# chamando df_orders\n",
    "\n",
    "df_orders"
   ]
  },
  {
   "cell_type": "markdown",
   "metadata": {},
   "source": [
    "Primeiramente iremos contar no número de pedidos por dia em nossa df_orders.\n",
    "\n",
    "Após isso, iremos criar uma nova dataframe que é resultado de join das dfs conectadas pelo grupo e data para calculo e geração dos dados de conversão diárias e gráficos.\n",
    "\n",
    "Iremos utilizar transactionId para contar a conversão."
   ]
  },
  {
   "cell_type": "code",
   "execution_count": 794,
   "metadata": {},
   "outputs": [
    {
     "data": {
      "text/html": [
       "<div>\n",
       "<style scoped>\n",
       "    .dataframe tbody tr th:only-of-type {\n",
       "        vertical-align: middle;\n",
       "    }\n",
       "\n",
       "    .dataframe tbody tr th {\n",
       "        vertical-align: top;\n",
       "    }\n",
       "\n",
       "    .dataframe thead th {\n",
       "        text-align: right;\n",
       "    }\n",
       "</style>\n",
       "<table border=\"1\" class=\"dataframe\">\n",
       "  <thead>\n",
       "    <tr style=\"text-align: right;\">\n",
       "      <th></th>\n",
       "      <th>date</th>\n",
       "      <th>group</th>\n",
       "      <th>orders</th>\n",
       "    </tr>\n",
       "  </thead>\n",
       "  <tbody>\n",
       "    <tr>\n",
       "      <th>0</th>\n",
       "      <td>2019-08-01</td>\n",
       "      <td>A</td>\n",
       "      <td>23</td>\n",
       "    </tr>\n",
       "    <tr>\n",
       "      <th>1</th>\n",
       "      <td>2019-08-01</td>\n",
       "      <td>B</td>\n",
       "      <td>17</td>\n",
       "    </tr>\n",
       "    <tr>\n",
       "      <th>2</th>\n",
       "      <td>2019-08-02</td>\n",
       "      <td>A</td>\n",
       "      <td>19</td>\n",
       "    </tr>\n",
       "    <tr>\n",
       "      <th>3</th>\n",
       "      <td>2019-08-02</td>\n",
       "      <td>B</td>\n",
       "      <td>23</td>\n",
       "    </tr>\n",
       "    <tr>\n",
       "      <th>4</th>\n",
       "      <td>2019-08-03</td>\n",
       "      <td>A</td>\n",
       "      <td>24</td>\n",
       "    </tr>\n",
       "    <tr>\n",
       "      <th>...</th>\n",
       "      <td>...</td>\n",
       "      <td>...</td>\n",
       "      <td>...</td>\n",
       "    </tr>\n",
       "    <tr>\n",
       "      <th>57</th>\n",
       "      <td>2019-08-29</td>\n",
       "      <td>B</td>\n",
       "      <td>15</td>\n",
       "    </tr>\n",
       "    <tr>\n",
       "      <th>58</th>\n",
       "      <td>2019-08-30</td>\n",
       "      <td>A</td>\n",
       "      <td>9</td>\n",
       "    </tr>\n",
       "    <tr>\n",
       "      <th>59</th>\n",
       "      <td>2019-08-30</td>\n",
       "      <td>B</td>\n",
       "      <td>21</td>\n",
       "    </tr>\n",
       "    <tr>\n",
       "      <th>60</th>\n",
       "      <td>2019-08-31</td>\n",
       "      <td>A</td>\n",
       "      <td>8</td>\n",
       "    </tr>\n",
       "    <tr>\n",
       "      <th>61</th>\n",
       "      <td>2019-08-31</td>\n",
       "      <td>B</td>\n",
       "      <td>17</td>\n",
       "    </tr>\n",
       "  </tbody>\n",
       "</table>\n",
       "<p>62 rows × 3 columns</p>\n",
       "</div>"
      ],
      "text/plain": [
       "         date group  orders\n",
       "0  2019-08-01     A      23\n",
       "1  2019-08-01     B      17\n",
       "2  2019-08-02     A      19\n",
       "3  2019-08-02     B      23\n",
       "4  2019-08-03     A      24\n",
       "..        ...   ...     ...\n",
       "57 2019-08-29     B      15\n",
       "58 2019-08-30     A       9\n",
       "59 2019-08-30     B      21\n",
       "60 2019-08-31     A       8\n",
       "61 2019-08-31     B      17\n",
       "\n",
       "[62 rows x 3 columns]"
      ]
     },
     "execution_count": 794,
     "metadata": {},
     "output_type": "execute_result"
    }
   ],
   "source": [
    "# agrupando df_orders por número de pedidos de usuários únicos diários\n",
    "\n",
    "orders_by_day = df_orders.groupby(['date', 'group'])['transactionId'].count().reset_index()\n",
    "\n",
    "# Renomeando\n",
    "orders_by_day = orders_by_day.rename(columns={'transactionId': 'orders'})\n",
    "\n",
    "# mostrando a df\n",
    "\n",
    "orders_by_day"
   ]
  },
  {
   "cell_type": "code",
   "execution_count": 795,
   "metadata": {},
   "outputs": [
    {
     "data": {
      "text/html": [
       "<div>\n",
       "<style scoped>\n",
       "    .dataframe tbody tr th:only-of-type {\n",
       "        vertical-align: middle;\n",
       "    }\n",
       "\n",
       "    .dataframe tbody tr th {\n",
       "        vertical-align: top;\n",
       "    }\n",
       "\n",
       "    .dataframe thead th {\n",
       "        text-align: right;\n",
       "    }\n",
       "</style>\n",
       "<table border=\"1\" class=\"dataframe\">\n",
       "  <thead>\n",
       "    <tr style=\"text-align: right;\">\n",
       "      <th></th>\n",
       "      <th>date</th>\n",
       "      <th>group</th>\n",
       "      <th>orders</th>\n",
       "      <th>visits</th>\n",
       "      <th>conversion%</th>\n",
       "    </tr>\n",
       "  </thead>\n",
       "  <tbody>\n",
       "    <tr>\n",
       "      <th>0</th>\n",
       "      <td>2019-08-01</td>\n",
       "      <td>A</td>\n",
       "      <td>23</td>\n",
       "      <td>719</td>\n",
       "      <td>3.198887</td>\n",
       "    </tr>\n",
       "    <tr>\n",
       "      <th>1</th>\n",
       "      <td>2019-08-01</td>\n",
       "      <td>B</td>\n",
       "      <td>17</td>\n",
       "      <td>713</td>\n",
       "      <td>2.384292</td>\n",
       "    </tr>\n",
       "    <tr>\n",
       "      <th>2</th>\n",
       "      <td>2019-08-02</td>\n",
       "      <td>A</td>\n",
       "      <td>19</td>\n",
       "      <td>619</td>\n",
       "      <td>3.069467</td>\n",
       "    </tr>\n",
       "    <tr>\n",
       "      <th>3</th>\n",
       "      <td>2019-08-02</td>\n",
       "      <td>B</td>\n",
       "      <td>23</td>\n",
       "      <td>581</td>\n",
       "      <td>3.958692</td>\n",
       "    </tr>\n",
       "    <tr>\n",
       "      <th>4</th>\n",
       "      <td>2019-08-03</td>\n",
       "      <td>A</td>\n",
       "      <td>24</td>\n",
       "      <td>507</td>\n",
       "      <td>4.733728</td>\n",
       "    </tr>\n",
       "    <tr>\n",
       "      <th>...</th>\n",
       "      <td>...</td>\n",
       "      <td>...</td>\n",
       "      <td>...</td>\n",
       "      <td>...</td>\n",
       "      <td>...</td>\n",
       "    </tr>\n",
       "    <tr>\n",
       "      <th>57</th>\n",
       "      <td>2019-08-29</td>\n",
       "      <td>B</td>\n",
       "      <td>15</td>\n",
       "      <td>531</td>\n",
       "      <td>2.824859</td>\n",
       "    </tr>\n",
       "    <tr>\n",
       "      <th>58</th>\n",
       "      <td>2019-08-30</td>\n",
       "      <td>A</td>\n",
       "      <td>9</td>\n",
       "      <td>490</td>\n",
       "      <td>1.836735</td>\n",
       "    </tr>\n",
       "    <tr>\n",
       "      <th>59</th>\n",
       "      <td>2019-08-30</td>\n",
       "      <td>B</td>\n",
       "      <td>21</td>\n",
       "      <td>490</td>\n",
       "      <td>4.285714</td>\n",
       "    </tr>\n",
       "    <tr>\n",
       "      <th>60</th>\n",
       "      <td>2019-08-31</td>\n",
       "      <td>A</td>\n",
       "      <td>8</td>\n",
       "      <td>699</td>\n",
       "      <td>1.144492</td>\n",
       "    </tr>\n",
       "    <tr>\n",
       "      <th>61</th>\n",
       "      <td>2019-08-31</td>\n",
       "      <td>B</td>\n",
       "      <td>17</td>\n",
       "      <td>718</td>\n",
       "      <td>2.367688</td>\n",
       "    </tr>\n",
       "  </tbody>\n",
       "</table>\n",
       "<p>62 rows × 5 columns</p>\n",
       "</div>"
      ],
      "text/plain": [
       "         date group  orders  visits  conversion%\n",
       "0  2019-08-01     A      23     719     3.198887\n",
       "1  2019-08-01     B      17     713     2.384292\n",
       "2  2019-08-02     A      19     619     3.069467\n",
       "3  2019-08-02     B      23     581     3.958692\n",
       "4  2019-08-03     A      24     507     4.733728\n",
       "..        ...   ...     ...     ...          ...\n",
       "57 2019-08-29     B      15     531     2.824859\n",
       "58 2019-08-30     A       9     490     1.836735\n",
       "59 2019-08-30     B      21     490     4.285714\n",
       "60 2019-08-31     A       8     699     1.144492\n",
       "61 2019-08-31     B      17     718     2.367688\n",
       "\n",
       "[62 rows x 5 columns]"
      ]
     },
     "execution_count": 795,
     "metadata": {},
     "output_type": "execute_result"
    }
   ],
   "source": [
    "# Juntar as DataFrames\n",
    "conv_df = pd.merge(orders_by_day, df_visits, on=['date', 'group'])\n",
    "\n",
    "# Gerar conversão\n",
    "conv_df['conversion%'] = (conv_df['orders']/conv_df['visits'])*100\n",
    "\n",
    "# Imprimir o DataFrame resultante\n",
    "conv_df"
   ]
  },
  {
   "cell_type": "code",
   "execution_count": 796,
   "metadata": {},
   "outputs": [
    {
     "data": {
      "image/png": "[encoded data removed]",
      "text/plain": [
       "<Figure size 1152x576 with 1 Axes>"
      ]
     },
     "metadata": {
      "needs_background": "light"
     },
     "output_type": "display_data"
    }
   ],
   "source": [
    "# Separar os grupos A e B\n",
    "group_A = conv_df[conv_df['group'] == 'A']\n",
    "group_B = conv_df[conv_df['group'] == 'B']\n",
    "\n",
    "# Configurar a figura\n",
    "plt.figure(figsize=(16, 8))\n",
    "\n",
    "# Traçar as taxas de conversão do grupo A\n",
    "plt.plot(group_A['date'], group_A['conversion%'], marker='o', label='Grupo A')\n",
    "\n",
    "# Traçar as taxas de conversão do grupo B\n",
    "plt.plot(group_B['date'], group_B['conversion%'], marker='o', label='Grupo B')\n",
    "\n",
    "# Configurar título e rótulos dos eixos\n",
    "plt.title('Taxas de Conversão Diárias por Grupo')\n",
    "plt.xlabel('Data')\n",
    "plt.ylabel('Taxa de Conversão')\n",
    "\n",
    "# Adicionar legenda\n",
    "plt.legend()\n",
    "\n",
    "# Exibir o gráfico\n",
    "plt.show()"
   ]
  },
  {
   "cell_type": "markdown",
   "metadata": {},
   "source": [
    "**Conclusão**\n",
    "\n",
    "Com o gráfico gerado podemos tirar as seguintes conclusões:\n",
    "\n",
    "* A variação da conversão para ambos os grupos seguem tendências similares, em que, normalmente, onde um grupo tem queda na conversão o outro também.\n",
    "\n",
    "* O Grupo B começou com menor conversão relativa, mas ao passar do tempo começou a performar melhor, com os pontos, quase sempre, acima do teste A.\n",
    "\n",
    "* Ao que parece, o grupo B possuí maior volatilidade. Há picos maiores de crescimento e decrescimento que o grupo A. \n",
    "\n",
    "* Ao que parece, inicialmente, os usuários do grupo B começaram a utilizar e necessitaram de um tempo para adaptação, por isso, começaram mais abaixo.\n",
    "\n",
    "* Apesar do Ticket Médio maior, nos parece que a conversão não aumentou conforme o tempo, pois ambas as curvas tem comportamentos parecidos."
   ]
  },
  {
   "cell_type": "markdown",
   "metadata": {},
   "source": [
    "#### Gráfico da diferença relativa na conversão cumulativa para o grupo B em comparação com o grupo A\n",
    "\n",
    "Iremos utilziar a df conv_df para realizar os cálculos de conversão geral."
   ]
  },
  {
   "cell_type": "code",
   "execution_count": 797,
   "metadata": {},
   "outputs": [
    {
     "data": {
      "text/html": [
       "<div>\n",
       "<style scoped>\n",
       "    .dataframe tbody tr th:only-of-type {\n",
       "        vertical-align: middle;\n",
       "    }\n",
       "\n",
       "    .dataframe tbody tr th {\n",
       "        vertical-align: top;\n",
       "    }\n",
       "\n",
       "    .dataframe thead th {\n",
       "        text-align: right;\n",
       "    }\n",
       "</style>\n",
       "<table border=\"1\" class=\"dataframe\">\n",
       "  <thead>\n",
       "    <tr style=\"text-align: right;\">\n",
       "      <th></th>\n",
       "      <th>group</th>\n",
       "      <th>orders</th>\n",
       "    </tr>\n",
       "  </thead>\n",
       "  <tbody>\n",
       "    <tr>\n",
       "      <th>0</th>\n",
       "      <td>A</td>\n",
       "      <td>468</td>\n",
       "    </tr>\n",
       "    <tr>\n",
       "      <th>1</th>\n",
       "      <td>B</td>\n",
       "      <td>548</td>\n",
       "    </tr>\n",
       "  </tbody>\n",
       "</table>\n",
       "</div>"
      ],
      "text/plain": [
       "  group  orders\n",
       "0     A     468\n",
       "1     B     548"
      ]
     },
     "execution_count": 797,
     "metadata": {},
     "output_type": "execute_result"
    }
   ],
   "source": [
    "# agrupando df_orders por número de pedidos de usuários únicos\n",
    "\n",
    "orders_general = df_orders.groupby('group')['transactionId'].count().reset_index()\n",
    "\n",
    "# Renomeando\n",
    "orders_general = orders_general.rename(columns={'transactionId': 'orders'})\n",
    "\n",
    "# mostrando a df\n",
    "\n",
    "orders_general\n"
   ]
  },
  {
   "cell_type": "code",
   "execution_count": 798,
   "metadata": {},
   "outputs": [
    {
     "data": {
      "text/html": [
       "<div>\n",
       "<style scoped>\n",
       "    .dataframe tbody tr th:only-of-type {\n",
       "        vertical-align: middle;\n",
       "    }\n",
       "\n",
       "    .dataframe tbody tr th {\n",
       "        vertical-align: top;\n",
       "    }\n",
       "\n",
       "    .dataframe thead th {\n",
       "        text-align: right;\n",
       "    }\n",
       "</style>\n",
       "<table border=\"1\" class=\"dataframe\">\n",
       "  <thead>\n",
       "    <tr style=\"text-align: right;\">\n",
       "      <th></th>\n",
       "      <th>group</th>\n",
       "      <th>visits_total</th>\n",
       "    </tr>\n",
       "  </thead>\n",
       "  <tbody>\n",
       "    <tr>\n",
       "      <th>0</th>\n",
       "      <td>A</td>\n",
       "      <td>18736</td>\n",
       "    </tr>\n",
       "    <tr>\n",
       "      <th>1</th>\n",
       "      <td>B</td>\n",
       "      <td>18916</td>\n",
       "    </tr>\n",
       "  </tbody>\n",
       "</table>\n",
       "</div>"
      ],
      "text/plain": [
       "  group  visits_total\n",
       "0     A         18736\n",
       "1     B         18916"
      ]
     },
     "execution_count": 798,
     "metadata": {},
     "output_type": "execute_result"
    }
   ],
   "source": [
    "# agrupando visitas gerais por grupos\n",
    "\n",
    "visits_general = df_visits.groupby('group')['visits'].sum().reset_index()\n",
    "\n",
    "# Renomeando\n",
    "\n",
    "visits_general = visits_general.rename(columns={'visits': 'visits_total'})\n",
    "\n",
    "# mostrando a df\n",
    "\n",
    "visits_general"
   ]
  },
  {
   "cell_type": "code",
   "execution_count": 799,
   "metadata": {},
   "outputs": [
    {
     "data": {
      "text/html": [
       "<div>\n",
       "<style scoped>\n",
       "    .dataframe tbody tr th:only-of-type {\n",
       "        vertical-align: middle;\n",
       "    }\n",
       "\n",
       "    .dataframe tbody tr th {\n",
       "        vertical-align: top;\n",
       "    }\n",
       "\n",
       "    .dataframe thead th {\n",
       "        text-align: right;\n",
       "    }\n",
       "</style>\n",
       "<table border=\"1\" class=\"dataframe\">\n",
       "  <thead>\n",
       "    <tr style=\"text-align: right;\">\n",
       "      <th></th>\n",
       "      <th>group</th>\n",
       "      <th>orders</th>\n",
       "      <th>visits_total</th>\n",
       "      <th>conversion%</th>\n",
       "    </tr>\n",
       "  </thead>\n",
       "  <tbody>\n",
       "    <tr>\n",
       "      <th>0</th>\n",
       "      <td>A</td>\n",
       "      <td>468</td>\n",
       "      <td>18736</td>\n",
       "      <td>2.497865</td>\n",
       "    </tr>\n",
       "    <tr>\n",
       "      <th>1</th>\n",
       "      <td>B</td>\n",
       "      <td>548</td>\n",
       "      <td>18916</td>\n",
       "      <td>2.897018</td>\n",
       "    </tr>\n",
       "  </tbody>\n",
       "</table>\n",
       "</div>"
      ],
      "text/plain": [
       "  group  orders  visits_total  conversion%\n",
       "0     A     468         18736     2.497865\n",
       "1     B     548         18916     2.897018"
      ]
     },
     "execution_count": 799,
     "metadata": {},
     "output_type": "execute_result"
    }
   ],
   "source": [
    "# Juntar as DataFrames\n",
    "conv_general = pd.merge(orders_general, visits_general, on= 'group')\n",
    "\n",
    "# Gerar conversão\n",
    "conv_general['conversion%'] = (conv_general['orders']/conv_general['visits_total'])*100\n",
    "\n",
    "# Imprimir o DataFrame resultante\n",
    "conv_general"
   ]
  },
  {
   "cell_type": "code",
   "execution_count": 800,
   "metadata": {},
   "outputs": [
    {
     "data": {
      "image/png": "[encoded data removed]",
      "text/plain": [
       "<Figure size 1152x648 with 1 Axes>"
      ]
     },
     "metadata": {
      "needs_background": "light"
     },
     "output_type": "display_data"
    }
   ],
   "source": [
    "# Cores\n",
    "colors = ['blue', 'green']\n",
    "\n",
    "# Gerando gráficos\n",
    "plt.figure(figsize=(16, 9))\n",
    "plt.bar(conv_general['group'], conv_general['conversion%'], color=colors)\n",
    "\n",
    "# Adicionando labels e título\n",
    "plt.xlabel('Group')\n",
    "plt.ylabel('Conversion Rate (%)')\n",
    "plt.title('Conversion Rate by Group')\n",
    "\n",
    "# Mostrando gráfico\n",
    "plt.show()"
   ]
  },
  {
   "cell_type": "markdown",
   "metadata": {},
   "source": [
    "**Conclusões**\n",
    "\n",
    "Podemos tirar as seguintes conclusões:\n",
    "\n",
    "* Como visto no gráfico diário de conversão o grupo B tem maior conversão relativa que A.\n",
    "\n",
    "* A diferença é de 0,4% no valor de conversão. Se avaliar em uma escala de 100 clientes, o grupo B converte 4 vendas a mais que o grupo A. \n",
    "\n",
    "* Levando em consideração o último ponto, pode-se dizer que a conversão geral de B é relevante sim. Além de aumentar o ticket médio a mudança aumentou a conversão média de clientes se mostrando uma mudança eficaz."
   ]
  },
  {
   "cell_type": "markdown",
   "metadata": {},
   "source": [
    "#### Percentis 95 e 99 para o número de pedidos por usuário e o ponto em que os dados se torna uma anomalia.\n",
    "\n",
    "Iremos calcular os percentis 95 e 99 utilizando a tabela df_orders.\n",
    "\n",
    "Para as anomalias, iremos calcular as anomalias de ambos os grupos. Ou seja, iremos criar anomalia1 que são o grupo de users acima de 99. Já a anomalia2 será o grupo de valores acima do percentil 95."
   ]
  },
  {
   "cell_type": "code",
   "execution_count": 801,
   "metadata": {},
   "outputs": [
    {
     "name": "stdout",
     "output_type": "stream",
     "text": [
      "Percentil 95: 1.0\n",
      "Percentil 99: 2.0\n",
      "\n",
      "\n",
      "Limite de anomalias 1: 2.0\n",
      "Anomalias 1:\n",
      "visitorId\n",
      "249864742     3\n",
      "611059232     3\n",
      "2108163459    3\n",
      "2742574263    3\n",
      "2988190573    3\n",
      "3908431265    3\n",
      "3967698036    3\n",
      "Name: transactionId, dtype: int64\n",
      "\n",
      "\n",
      "Limite de anomalias 2: 1.0\n",
      "Anomalias 2:\n",
      "visitorId\n",
      "249864742     3\n",
      "366673373     2\n",
      "406208401     2\n",
      "522292794     2\n",
      "611059232     3\n",
      "678354126     2\n",
      "759473111     2\n",
      "1404560065    2\n",
      "1617417821    2\n",
      "1637811943    2\n",
      "1772171838    2\n",
      "1985475298    2\n",
      "2025197455    2\n",
      "2096506107    2\n",
      "2108163459    3\n",
      "2232111114    2\n",
      "2306096143    2\n",
      "2366521417    2\n",
      "2397843657    2\n",
      "2706377257    2\n",
      "2733145037    2\n",
      "2742574263    3\n",
      "2744017357    2\n",
      "2892265953    2\n",
      "2988190573    3\n",
      "3077396270    2\n",
      "3332057097    2\n",
      "3362039251    2\n",
      "3379260072    2\n",
      "3469608676    2\n",
      "3908431265    3\n",
      "3935952912    2\n",
      "3941503500    2\n",
      "3967698036    3\n",
      "4109358064    2\n",
      "4134830387    2\n",
      "Name: transactionId, dtype: int64\n"
     ]
    }
   ],
   "source": [
    "# Calcular o número de pedidos por usuário\n",
    "orders_per_user = df_orders.groupby('visitorId')['transactionId'].nunique()\n",
    "\n",
    "# Calcular os percentis 95 e 99\n",
    "percentile_95 = orders_per_user.quantile(0.95)\n",
    "percentile_99 = orders_per_user.quantile(0.99)\n",
    "\n",
    "# Definir o limite para anomalias\n",
    "limit_anomalia1 = percentile_99\n",
    "limit_anomalia2 = percentile_95\n",
    "\n",
    "# Identificar anomalias\n",
    "anomalia1 = orders_per_user[orders_per_user > limit_anomalia1] # Limite anomalia 1\n",
    "anomalia2 = orders_per_user[orders_per_user > limit_anomalia2] # Limite anomalia 2\n",
    "\n",
    "# Imprimir os resultados\n",
    "print(f\"Percentil 95: {percentile_95}\")\n",
    "print(f\"Percentil 99: {percentile_99}\")\n",
    "print(\"\\n\")\n",
    "print(f\"Limite de anomalias 1: {limit_anomalia1}\")\n",
    "print(\"Anomalias 1:\")\n",
    "print(anomalia1)\n",
    "print(\"\\n\")\n",
    "print(f\"Limite de anomalias 2: {limit_anomalia2}\")\n",
    "print(\"Anomalias 2:\")\n",
    "print(anomalia2)"
   ]
  },
  {
   "cell_type": "markdown",
   "metadata": {},
   "source": [
    "**Conclusão**\n",
    "\n",
    "A partir dos dados gerados podemos tirar que:\n",
    "\n",
    "* O percentil 95 tem o valor de até 1 pedido. Ou seja, 95% dos clientes realiza até 1 pedido no período de teste realizado.\n",
    "\n",
    "* O percentil 99 tem o valor até de 2 pedidos. Ou seja, 99% dos clientes realiza até 2 pedidos.\n",
    "\n",
    "* Para anomalias, calculamos anomalias para ambos os casos, podemos ver o grupo de anomalias pode ser considerado a partir de percentil 99, pelo tamanho da amostra. \n",
    "\n",
    "* Podemos ver que o número de pedidos por cliente é baixo, sendo que a maior parte dos clientes realiza somente 1 pedido no período inteiro. Ou seja, não há uma recorrência de compras. Isso pode ser um fator importante a se analisar."
   ]
  },
  {
   "cell_type": "markdown",
   "metadata": {},
   "source": [
    "#### Gráfico de dispersão dos preços dos pedidos"
   ]
  },
  {
   "cell_type": "code",
   "execution_count": 802,
   "metadata": {},
   "outputs": [
    {
     "data": {
      "image/png": "[encoded data removed]",
      "text/plain": [
       "<Figure size 1152x648 with 1 Axes>"
      ]
     },
     "metadata": {
      "needs_background": "light"
     },
     "output_type": "display_data"
    }
   ],
   "source": [
    "# Gerando gráficos\n",
    "fig, ax = plt.subplots(figsize=(16, 9))\n",
    "\n",
    "# Gerar o gráfico de dispersão\n",
    "df_orders.plot.scatter(x='transactionId', y='revenue', ax=ax)\n",
    "\n",
    "# Configurar rótulos dos eixos\n",
    "plt.xlabel('Transaction ID')\n",
    "plt.ylabel('Revenue')\n",
    "\n",
    "# Configurar título do gráfico\n",
    "plt.title('Gráfico de Dispersão - Valor Pedido')\n",
    "\n",
    "# Exibir o gráfico\n",
    "plt.show()"
   ]
  },
  {
   "cell_type": "markdown",
   "metadata": {},
   "source": [
    "**Conclusão**\n",
    "\n",
    "Pelo gráfico gerado podemos observar que não há grande diferença na dispersão dos preços dos pedidos. Há alguns pontos fora da curva, mas o Ticket médio parece se manter constante entre os usuários, tendo alguns usuários como anomalias e fora do padrão. O maior valor chega a 20.000 o pedido."
   ]
  },
  {
   "cell_type": "markdown",
   "metadata": {},
   "source": [
    "#### Percentis 95 e 99 para o preço do pedido e o ponto em que os dados se torna uma anomalia.\n",
    "\n",
    "Iremos calcular os percentis 95 e 99 utilizando a tabela df_orders.\n",
    "\n",
    "Para as anomalias, iremos calcular as anomalias de ambos os grupos. Ou seja, iremos criar anomalia1 que são o grupo de users acima de 99. Já a anomalia2 será o grupo de valores acima do percentil 95."
   ]
  },
  {
   "cell_type": "code",
   "execution_count": 803,
   "metadata": {},
   "outputs": [
    {
     "name": "stdout",
     "output_type": "stream",
     "text": [
      "Percentil 95: 414.275\n",
      "Percentil 99: 830.3\n",
      "\n",
      "\n",
      "Limite de anomalias 1: 830.3\n",
      "Anomalias 1:\n",
      "transactionId\n",
      "316924019      1015.9\n",
      "590470918     19920.4\n",
      "666610489      1425.8\n",
      "1347999392      930.0\n",
      "1348774318     1025.8\n",
      "2420050534      905.8\n",
      "3603576309     1050.0\n",
      "3668308183     1335.6\n",
      "3936777065     3120.1\n",
      "Name: revenue, dtype: float64\n",
      "\n",
      "\n",
      "Limite de anomalias 2: 414.275\n",
      "Anomalias 2:\n",
      "transactionId\n",
      "316924019      1015.9\n",
      "323958042       425.9\n",
      "324171086       610.7\n",
      "348143148       575.5\n",
      "514501382       710.8\n",
      "573486797       475.5\n",
      "587872075       830.3\n",
      "590470918     19920.4\n",
      "666610489      1425.8\n",
      "773663763       630.8\n",
      "922638597       550.9\n",
      "1192036073      590.1\n",
      "1192185169      475.5\n",
      "1234615529      705.3\n",
      "1295850747      455.8\n",
      "1347999392      930.0\n",
      "1348774318     1025.8\n",
      "1416727054      455.8\n",
      "1538887006      555.2\n",
      "1570513684      515.9\n",
      "1589082866      765.5\n",
      "1646402801      675.2\n",
      "1769257333      525.6\n",
      "1798931686      440.3\n",
      "1861540412      815.8\n",
      "1867784682      485.3\n",
      "2012277167      445.3\n",
      "2023295336      440.2\n",
      "2023943756      435.7\n",
      "2178722073      535.5\n",
      "2183069967      810.4\n",
      "2216192667      640.7\n",
      "2243349176      510.5\n",
      "2419903539      475.5\n",
      "2420050534      905.8\n",
      "2619374735      500.7\n",
      "2788225284      580.7\n",
      "2894657060      510.5\n",
      "2983450240      435.5\n",
      "3163614039      830.3\n",
      "3603576309     1050.0\n",
      "3668308183     1335.6\n",
      "3765974140      490.4\n",
      "3815014015      815.8\n",
      "3817119382      540.3\n",
      "3936777065     3120.1\n",
      "3964942202      660.5\n",
      "3970235543      680.8\n",
      "4021746511      425.6\n",
      "4071177889      830.3\n",
      "4243941421      550.9\n",
      "Name: revenue, dtype: float64\n"
     ]
    }
   ],
   "source": [
    "# Calcular o preço de pedidos por usuário\n",
    "price_percentil = df_orders.groupby('transactionId')['revenue'].sum()\n",
    "\n",
    "# Calcular os percentis 95 e 99\n",
    "percentile_95 = price_percentil.quantile(0.95)\n",
    "percentile_99 = price_percentil.quantile(0.99)\n",
    "\n",
    "# Definir o limite para anomalias\n",
    "limit_anomalia1 = percentile_99\n",
    "limit_anomalia2 = percentile_95\n",
    "\n",
    "# Identificar anomalias\n",
    "anomalia1 = price_percentil[price_percentil > limit_anomalia1] # Limite anomalia 1\n",
    "anomalia2 = price_percentil[price_percentil > limit_anomalia2] # Limite anomalia 2\n",
    "\n",
    "# Imprimir os resultados\n",
    "print(f\"Percentil 95: {percentile_95}\")\n",
    "print(f\"Percentil 99: {percentile_99}\")\n",
    "print(\"\\n\")\n",
    "print(f\"Limite de anomalias 1: {limit_anomalia1}\")\n",
    "print(\"Anomalias 1:\")\n",
    "print(anomalia1)\n",
    "print(\"\\n\")\n",
    "print(f\"Limite de anomalias 2: {limit_anomalia2}\")\n",
    "print(\"Anomalias 2:\")\n",
    "print(anomalia2)"
   ]
  },
  {
   "cell_type": "markdown",
   "metadata": {},
   "source": [
    "**Conclusão**\n",
    "\n",
    "A partir dos dados gerados podemos tirar que:\n",
    "\n",
    "* O percentil 95 tem o valor de até 414,27. Ou seja, 95% dos clientes compra até 414,27 no período de teste realizado.\n",
    "\n",
    "* O percentil 99 tem o valor até 830.3. Ou seja, 99% dos clientes compra até 830.3.\n",
    "\n",
    "* Para anomalias, calculamos anomalias para ambos os casos, podemos ver o grupo de anomalias pode ser considerado a partir de percentil 99, pelo tamanho da amostra. \n",
    "\n",
    "* Podemos ver que há valores consideráveis para a compra de produtos no site e apesar do ticket médio ser 145, há valores que excedem esse valor."
   ]
  },
  {
   "cell_type": "markdown",
   "metadata": {},
   "source": [
    "#### Significância estatística - Testes\n",
    "\n",
    "Vamos encontrar nessa seção as significâncias estatísticas seguintes:\n",
    "\n",
    "- significância estatística da diferença na conversão entre os grupos usando os dados brutos.\n",
    "\n",
    "- significância estatística da diferença no tamanho médio do pedido entre os grupos usando os dados brutos. \n",
    "\n",
    "- significância estatística da diferença na conversão entre os grupos usando os dados filtrados\n",
    "\n",
    "- significância estatística da diferença no tamanho médio do pedido entre os grupos usando os dados filtrados. \n",
    "\n",
    "\n",
    "Como sabemos que nossos dados contem valores atípicos e muito fora do padrão iremos utilizar o teste de Wilcoxon-Mann-Whitney."
   ]
  },
  {
   "cell_type": "markdown",
   "metadata": {},
   "source": [
    "##### significância estatística da diferença na conversão entre os grupos usando os dados brutos.\n",
    "\n",
    "Para utilização dos dados brutos iremos carregar novamente os dados de em nossa raíz para coletar os dados brutos."
   ]
  },
  {
   "cell_type": "code",
   "execution_count": 804,
   "metadata": {},
   "outputs": [],
   "source": [
    "# abrindo a tabela orders_us.csv\n",
    "\n",
    "# Carregando dados no computador pessoal\n",
    "try:\n",
    "    df_orders2 = pd.read_csv(r'download/datasets/orders_us.csv')\n",
    "    \n",
    "# Carregando dados no JupyterHub\n",
    "except:\n",
    "    df_orders2 = pd.read_csv(r'/datasets/orders_us.csv')"
   ]
  },
  {
   "cell_type": "code",
   "execution_count": 805,
   "metadata": {},
   "outputs": [],
   "source": [
    "# abrindo a tabela visitors_us.csv.\n",
    "\n",
    "# Carregando dados no computador pessoal\n",
    "try:\n",
    "    df_visits2 = pd.read_csv(r'download/datasets/visitors_us.csv')\n",
    "    \n",
    "# Carregando dados no JupyterHub\n",
    "except:\n",
    "    df_visits2 = pd.read_csv(r'/datasets/visitors_us.csv')"
   ]
  },
  {
   "cell_type": "code",
   "execution_count": 806,
   "metadata": {},
   "outputs": [
    {
     "data": {
      "text/html": [
       "<div>\n",
       "<style scoped>\n",
       "    .dataframe tbody tr th:only-of-type {\n",
       "        vertical-align: middle;\n",
       "    }\n",
       "\n",
       "    .dataframe tbody tr th {\n",
       "        vertical-align: top;\n",
       "    }\n",
       "\n",
       "    .dataframe thead th {\n",
       "        text-align: right;\n",
       "    }\n",
       "</style>\n",
       "<table border=\"1\" class=\"dataframe\">\n",
       "  <thead>\n",
       "    <tr style=\"text-align: right;\">\n",
       "      <th></th>\n",
       "      <th>date</th>\n",
       "      <th>group</th>\n",
       "      <th>orders</th>\n",
       "    </tr>\n",
       "  </thead>\n",
       "  <tbody>\n",
       "    <tr>\n",
       "      <th>0</th>\n",
       "      <td>2019-08-01</td>\n",
       "      <td>A</td>\n",
       "      <td>24</td>\n",
       "    </tr>\n",
       "    <tr>\n",
       "      <th>1</th>\n",
       "      <td>2019-08-01</td>\n",
       "      <td>B</td>\n",
       "      <td>21</td>\n",
       "    </tr>\n",
       "    <tr>\n",
       "      <th>2</th>\n",
       "      <td>2019-08-02</td>\n",
       "      <td>A</td>\n",
       "      <td>20</td>\n",
       "    </tr>\n",
       "    <tr>\n",
       "      <th>3</th>\n",
       "      <td>2019-08-02</td>\n",
       "      <td>B</td>\n",
       "      <td>24</td>\n",
       "    </tr>\n",
       "    <tr>\n",
       "      <th>4</th>\n",
       "      <td>2019-08-03</td>\n",
       "      <td>A</td>\n",
       "      <td>24</td>\n",
       "    </tr>\n",
       "    <tr>\n",
       "      <th>...</th>\n",
       "      <td>...</td>\n",
       "      <td>...</td>\n",
       "      <td>...</td>\n",
       "    </tr>\n",
       "    <tr>\n",
       "      <th>57</th>\n",
       "      <td>2019-08-29</td>\n",
       "      <td>B</td>\n",
       "      <td>20</td>\n",
       "    </tr>\n",
       "    <tr>\n",
       "      <th>58</th>\n",
       "      <td>2019-08-30</td>\n",
       "      <td>A</td>\n",
       "      <td>11</td>\n",
       "    </tr>\n",
       "    <tr>\n",
       "      <th>59</th>\n",
       "      <td>2019-08-30</td>\n",
       "      <td>B</td>\n",
       "      <td>24</td>\n",
       "    </tr>\n",
       "    <tr>\n",
       "      <th>60</th>\n",
       "      <td>2019-08-31</td>\n",
       "      <td>A</td>\n",
       "      <td>12</td>\n",
       "    </tr>\n",
       "    <tr>\n",
       "      <th>61</th>\n",
       "      <td>2019-08-31</td>\n",
       "      <td>B</td>\n",
       "      <td>20</td>\n",
       "    </tr>\n",
       "  </tbody>\n",
       "</table>\n",
       "<p>62 rows × 3 columns</p>\n",
       "</div>"
      ],
      "text/plain": [
       "          date group  orders\n",
       "0   2019-08-01     A      24\n",
       "1   2019-08-01     B      21\n",
       "2   2019-08-02     A      20\n",
       "3   2019-08-02     B      24\n",
       "4   2019-08-03     A      24\n",
       "..         ...   ...     ...\n",
       "57  2019-08-29     B      20\n",
       "58  2019-08-30     A      11\n",
       "59  2019-08-30     B      24\n",
       "60  2019-08-31     A      12\n",
       "61  2019-08-31     B      20\n",
       "\n",
       "[62 rows x 3 columns]"
      ]
     },
     "execution_count": 806,
     "metadata": {},
     "output_type": "execute_result"
    }
   ],
   "source": [
    "# agrupando df_orders por número de pedidos de usuários únicos diários\n",
    "\n",
    "orders_by_day2 = df_orders2.groupby(['date', 'group'])['transactionId'].count().reset_index()\n",
    "\n",
    "# Renomeando\n",
    "orders_by_day2 = orders_by_day2.rename(columns={'transactionId': 'orders'})\n",
    "\n",
    "# mostrando a df\n",
    "\n",
    "orders_by_day2"
   ]
  },
  {
   "cell_type": "code",
   "execution_count": 807,
   "metadata": {},
   "outputs": [
    {
     "data": {
      "text/html": [
       "<div>\n",
       "<style scoped>\n",
       "    .dataframe tbody tr th:only-of-type {\n",
       "        vertical-align: middle;\n",
       "    }\n",
       "\n",
       "    .dataframe tbody tr th {\n",
       "        vertical-align: top;\n",
       "    }\n",
       "\n",
       "    .dataframe thead th {\n",
       "        text-align: right;\n",
       "    }\n",
       "</style>\n",
       "<table border=\"1\" class=\"dataframe\">\n",
       "  <thead>\n",
       "    <tr style=\"text-align: right;\">\n",
       "      <th></th>\n",
       "      <th>date</th>\n",
       "      <th>group</th>\n",
       "      <th>orders</th>\n",
       "      <th>visits</th>\n",
       "      <th>conversion%</th>\n",
       "    </tr>\n",
       "  </thead>\n",
       "  <tbody>\n",
       "    <tr>\n",
       "      <th>0</th>\n",
       "      <td>2019-08-01</td>\n",
       "      <td>A</td>\n",
       "      <td>24</td>\n",
       "      <td>719</td>\n",
       "      <td>3.337969</td>\n",
       "    </tr>\n",
       "    <tr>\n",
       "      <th>1</th>\n",
       "      <td>2019-08-01</td>\n",
       "      <td>B</td>\n",
       "      <td>21</td>\n",
       "      <td>713</td>\n",
       "      <td>2.945302</td>\n",
       "    </tr>\n",
       "    <tr>\n",
       "      <th>2</th>\n",
       "      <td>2019-08-02</td>\n",
       "      <td>A</td>\n",
       "      <td>20</td>\n",
       "      <td>619</td>\n",
       "      <td>3.231018</td>\n",
       "    </tr>\n",
       "    <tr>\n",
       "      <th>3</th>\n",
       "      <td>2019-08-02</td>\n",
       "      <td>B</td>\n",
       "      <td>24</td>\n",
       "      <td>581</td>\n",
       "      <td>4.130809</td>\n",
       "    </tr>\n",
       "    <tr>\n",
       "      <th>4</th>\n",
       "      <td>2019-08-03</td>\n",
       "      <td>A</td>\n",
       "      <td>24</td>\n",
       "      <td>507</td>\n",
       "      <td>4.733728</td>\n",
       "    </tr>\n",
       "    <tr>\n",
       "      <th>...</th>\n",
       "      <td>...</td>\n",
       "      <td>...</td>\n",
       "      <td>...</td>\n",
       "      <td>...</td>\n",
       "      <td>...</td>\n",
       "    </tr>\n",
       "    <tr>\n",
       "      <th>57</th>\n",
       "      <td>2019-08-29</td>\n",
       "      <td>B</td>\n",
       "      <td>20</td>\n",
       "      <td>531</td>\n",
       "      <td>3.766478</td>\n",
       "    </tr>\n",
       "    <tr>\n",
       "      <th>58</th>\n",
       "      <td>2019-08-30</td>\n",
       "      <td>A</td>\n",
       "      <td>11</td>\n",
       "      <td>490</td>\n",
       "      <td>2.244898</td>\n",
       "    </tr>\n",
       "    <tr>\n",
       "      <th>59</th>\n",
       "      <td>2019-08-30</td>\n",
       "      <td>B</td>\n",
       "      <td>24</td>\n",
       "      <td>490</td>\n",
       "      <td>4.897959</td>\n",
       "    </tr>\n",
       "    <tr>\n",
       "      <th>60</th>\n",
       "      <td>2019-08-31</td>\n",
       "      <td>A</td>\n",
       "      <td>12</td>\n",
       "      <td>699</td>\n",
       "      <td>1.716738</td>\n",
       "    </tr>\n",
       "    <tr>\n",
       "      <th>61</th>\n",
       "      <td>2019-08-31</td>\n",
       "      <td>B</td>\n",
       "      <td>20</td>\n",
       "      <td>718</td>\n",
       "      <td>2.785515</td>\n",
       "    </tr>\n",
       "  </tbody>\n",
       "</table>\n",
       "<p>62 rows × 5 columns</p>\n",
       "</div>"
      ],
      "text/plain": [
       "          date group  orders  visits  conversion%\n",
       "0   2019-08-01     A      24     719     3.337969\n",
       "1   2019-08-01     B      21     713     2.945302\n",
       "2   2019-08-02     A      20     619     3.231018\n",
       "3   2019-08-02     B      24     581     4.130809\n",
       "4   2019-08-03     A      24     507     4.733728\n",
       "..         ...   ...     ...     ...          ...\n",
       "57  2019-08-29     B      20     531     3.766478\n",
       "58  2019-08-30     A      11     490     2.244898\n",
       "59  2019-08-30     B      24     490     4.897959\n",
       "60  2019-08-31     A      12     699     1.716738\n",
       "61  2019-08-31     B      20     718     2.785515\n",
       "\n",
       "[62 rows x 5 columns]"
      ]
     },
     "execution_count": 807,
     "metadata": {},
     "output_type": "execute_result"
    }
   ],
   "source": [
    "# Juntar as DataFrames\n",
    "conv_df2 = pd.merge(orders_by_day2, df_visits2, on=['date', 'group'])\n",
    "\n",
    "# Gerar conversão\n",
    "conv_df2['conversion%'] = (conv_df2['orders']/conv_df2['visits'])*100\n",
    "\n",
    "# Imprimir o DataFrame resultante\n",
    "conv_df2"
   ]
  },
  {
   "cell_type": "code",
   "execution_count": 808,
   "metadata": {},
   "outputs": [
    {
     "name": "stdout",
     "output_type": "stream",
     "text": [
      "p-value:  0.042936080165038866\n",
      "Hipótese nula rejeitada: a diferença possui significância estatística\n"
     ]
    }
   ],
   "source": [
    "# Dividir os dados em dois grupos\n",
    "group_a = conv_df2[conv_df2['group'] == 'A']['conversion%']\n",
    "group_b = conv_df2[conv_df2['group'] == 'B']['conversion%']\n",
    "\n",
    "alpha = .05 # nível de significância crítico\n",
    "\n",
    "# Teste de Wilcoxon-Mann-Whitney\n",
    "results = st.mannwhitneyu(group_a, group_b, True, 'less')\n",
    "\n",
    "print('p-value: ', results.pvalue)\n",
    "\n",
    "if (results.pvalue < alpha):\n",
    "    print(\"Hipótese nula rejeitada: a diferença possui significância estatística\")\n",
    "else:\n",
    "    print(\"Falha ao rejeitar a hipótese nula: não é possível chegar a uma conclusão sobre a diferença\")"
   ]
  },
  {
   "cell_type": "markdown",
   "metadata": {},
   "source": [
    "##### significância estatística da diferença no tamanho médio do pedido entre os grupos usando os dados brutos"
   ]
  },
  {
   "cell_type": "code",
   "execution_count": 809,
   "metadata": {},
   "outputs": [
    {
     "data": {
      "text/html": [
       "<div>\n",
       "<style scoped>\n",
       "    .dataframe tbody tr th:only-of-type {\n",
       "        vertical-align: middle;\n",
       "    }\n",
       "\n",
       "    .dataframe tbody tr th {\n",
       "        vertical-align: top;\n",
       "    }\n",
       "\n",
       "    .dataframe thead th {\n",
       "        text-align: right;\n",
       "    }\n",
       "</style>\n",
       "<table border=\"1\" class=\"dataframe\">\n",
       "  <thead>\n",
       "    <tr style=\"text-align: right;\">\n",
       "      <th></th>\n",
       "      <th>transactionId</th>\n",
       "      <th>visitorId</th>\n",
       "      <th>date</th>\n",
       "      <th>revenue</th>\n",
       "      <th>group</th>\n",
       "    </tr>\n",
       "  </thead>\n",
       "  <tbody>\n",
       "    <tr>\n",
       "      <th>0</th>\n",
       "      <td>3667963787</td>\n",
       "      <td>3312258926</td>\n",
       "      <td>2019-08-15</td>\n",
       "      <td>30.4</td>\n",
       "      <td>B</td>\n",
       "    </tr>\n",
       "    <tr>\n",
       "      <th>1</th>\n",
       "      <td>2804400009</td>\n",
       "      <td>3642806036</td>\n",
       "      <td>2019-08-15</td>\n",
       "      <td>15.2</td>\n",
       "      <td>B</td>\n",
       "    </tr>\n",
       "    <tr>\n",
       "      <th>2</th>\n",
       "      <td>2961555356</td>\n",
       "      <td>4069496402</td>\n",
       "      <td>2019-08-15</td>\n",
       "      <td>10.2</td>\n",
       "      <td>A</td>\n",
       "    </tr>\n",
       "    <tr>\n",
       "      <th>3</th>\n",
       "      <td>3797467345</td>\n",
       "      <td>1196621759</td>\n",
       "      <td>2019-08-15</td>\n",
       "      <td>155.1</td>\n",
       "      <td>B</td>\n",
       "    </tr>\n",
       "    <tr>\n",
       "      <th>4</th>\n",
       "      <td>2282983706</td>\n",
       "      <td>2322279887</td>\n",
       "      <td>2019-08-15</td>\n",
       "      <td>40.5</td>\n",
       "      <td>B</td>\n",
       "    </tr>\n",
       "    <tr>\n",
       "      <th>...</th>\n",
       "      <td>...</td>\n",
       "      <td>...</td>\n",
       "      <td>...</td>\n",
       "      <td>...</td>\n",
       "      <td>...</td>\n",
       "    </tr>\n",
       "    <tr>\n",
       "      <th>1192</th>\n",
       "      <td>2662137336</td>\n",
       "      <td>3733762160</td>\n",
       "      <td>2019-08-14</td>\n",
       "      <td>100.8</td>\n",
       "      <td>B</td>\n",
       "    </tr>\n",
       "    <tr>\n",
       "      <th>1193</th>\n",
       "      <td>2203539145</td>\n",
       "      <td>370388673</td>\n",
       "      <td>2019-08-14</td>\n",
       "      <td>50.1</td>\n",
       "      <td>A</td>\n",
       "    </tr>\n",
       "    <tr>\n",
       "      <th>1194</th>\n",
       "      <td>1807773912</td>\n",
       "      <td>573423106</td>\n",
       "      <td>2019-08-14</td>\n",
       "      <td>165.3</td>\n",
       "      <td>A</td>\n",
       "    </tr>\n",
       "    <tr>\n",
       "      <th>1195</th>\n",
       "      <td>1947021204</td>\n",
       "      <td>1614305549</td>\n",
       "      <td>2019-08-14</td>\n",
       "      <td>5.5</td>\n",
       "      <td>A</td>\n",
       "    </tr>\n",
       "    <tr>\n",
       "      <th>1196</th>\n",
       "      <td>3936777065</td>\n",
       "      <td>2108080724</td>\n",
       "      <td>2019-08-15</td>\n",
       "      <td>3120.1</td>\n",
       "      <td>B</td>\n",
       "    </tr>\n",
       "  </tbody>\n",
       "</table>\n",
       "<p>1197 rows × 5 columns</p>\n",
       "</div>"
      ],
      "text/plain": [
       "      transactionId   visitorId        date  revenue group\n",
       "0        3667963787  3312258926  2019-08-15     30.4     B\n",
       "1        2804400009  3642806036  2019-08-15     15.2     B\n",
       "2        2961555356  4069496402  2019-08-15     10.2     A\n",
       "3        3797467345  1196621759  2019-08-15    155.1     B\n",
       "4        2282983706  2322279887  2019-08-15     40.5     B\n",
       "...             ...         ...         ...      ...   ...\n",
       "1192     2662137336  3733762160  2019-08-14    100.8     B\n",
       "1193     2203539145   370388673  2019-08-14     50.1     A\n",
       "1194     1807773912   573423106  2019-08-14    165.3     A\n",
       "1195     1947021204  1614305549  2019-08-14      5.5     A\n",
       "1196     3936777065  2108080724  2019-08-15   3120.1     B\n",
       "\n",
       "[1197 rows x 5 columns]"
      ]
     },
     "execution_count": 809,
     "metadata": {},
     "output_type": "execute_result"
    }
   ],
   "source": [
    "# mostrando df de uso\n",
    "df_orders2"
   ]
  },
  {
   "cell_type": "code",
   "execution_count": 810,
   "metadata": {},
   "outputs": [
    {
     "name": "stdout",
     "output_type": "stream",
     "text": [
      "p-value:  0.3457623386632368\n",
      "Falha ao rejeitar a hipótese nula: não é possível chegar a uma conclusão sobre a diferença\n"
     ]
    }
   ],
   "source": [
    "# Dividir os dados em dois grupos\n",
    "group_a2 = df_orders2[df_orders2['group'] == 'A']['revenue']\n",
    "group_b2 = df_orders2[df_orders2['group'] == 'B']['revenue']\n",
    "\n",
    "alpha = .05 # nível de significância crítico\n",
    "\n",
    "# Teste de Wilcoxon-Mann-Whitney\n",
    "results = st.mannwhitneyu(group_a2, group_b2, True, 'less')\n",
    "\n",
    "print('p-value: ', results.pvalue)\n",
    "\n",
    "if (results.pvalue < alpha):\n",
    "    print(\"Hipótese nula rejeitada: a diferença possui significância estatística\")\n",
    "else:\n",
    "    print(\"Falha ao rejeitar a hipótese nula: não é possível chegar a uma conclusão sobre a diferença\")"
   ]
  },
  {
   "cell_type": "markdown",
   "metadata": {},
   "source": [
    "##### significância estatística da diferença na conversão entre os grupos usando os dados filtrados."
   ]
  },
  {
   "cell_type": "code",
   "execution_count": 811,
   "metadata": {},
   "outputs": [
    {
     "name": "stdout",
     "output_type": "stream",
     "text": [
      "p-value:  0.026878539452366065\n",
      "Hipótese nula rejeitada: a diferença possui significância estatística\n"
     ]
    }
   ],
   "source": [
    "# Dividir os dados em dois grupos\n",
    "group_a = conv_df[conv_df['group'] == 'A']['conversion%']\n",
    "group_b = conv_df[conv_df['group'] == 'B']['conversion%']\n",
    "\n",
    "alpha = .05 # nível de significância crítico\n",
    "\n",
    "# Teste de Wilcoxon-Mann-Whitney\n",
    "results = st.mannwhitneyu(group_a, group_b, True, 'less')\n",
    "\n",
    "print('p-value: ', results.pvalue)\n",
    "\n",
    "if (results.pvalue < alpha):\n",
    "    print(\"Hipótese nula rejeitada: a diferença possui significância estatística\")\n",
    "else:\n",
    "    print(\"Falha ao rejeitar a hipótese nula: não é possível chegar a uma conclusão sobre a diferença\")"
   ]
  },
  {
   "cell_type": "markdown",
   "metadata": {},
   "source": [
    "##### significância estatística da diferença no tamanho médio do pedido entre os grupos usando os dados filtrados"
   ]
  },
  {
   "cell_type": "code",
   "execution_count": 812,
   "metadata": {},
   "outputs": [
    {
     "name": "stdout",
     "output_type": "stream",
     "text": [
      "p-value:  0.5689678091666772\n",
      "Falha ao rejeitar a hipótese nula: não é possível chegar a uma conclusão sobre a diferença\n"
     ]
    }
   ],
   "source": [
    " # Dividir os dados em dois grupos\n",
    "group_a2 = df_orders[df_orders['group'] == 'A']['revenue']\n",
    "group_b2 = df_orders[df_orders['group'] == 'B']['revenue']\n",
    "\n",
    "alpha = .05 # nível de significância crítico\n",
    "\n",
    "# Teste de Wilcoxon-Mann-Whitney\n",
    "results = st.mannwhitneyu(group_a2, group_b2, True, 'less')\n",
    "\n",
    "print('p-value: ', results.pvalue)\n",
    "\n",
    "if (results.pvalue < alpha):\n",
    "    print(\"Hipótese nula rejeitada: a diferença possui significância estatística\")\n",
    "else:\n",
    "    print(\"Falha ao rejeitar a hipótese nula: não é possível chegar a uma conclusão sobre a diferença\")"
   ]
  },
  {
   "cell_type": "markdown",
   "metadata": {},
   "source": [
    "##### Conclusões\n",
    "\n",
    "Com os dados gerados podemos ver os seguintes fatores:\n",
    "\n",
    "* Em comparação dos mesmos testes entre a conversão dos grupos filtrados e não filtrados podemos ver uma variação do p-valor retirado das análises. É interessante observar que a ordem de significância é alta dada que a não filtrada ficou em 0,042 e filtrada em 0,026. \n",
    "\n",
    "* Ao análisar o comparativo entre os p-valores citados anteriormente vemos como é importante a boa prática e boa análise de limpeza de dados para nossos testes, eles podem afetar consideravelmente os erros gerados sendo que, no teste com os dados não filtrados quase que a hipótese Falhou a rejeitar.\n",
    "\n",
    "* A comparação do ticket médio entre os grupos nos dados filtrados e não filtrados também demosntraram diferenças significativas onde o não filtrado apresenteou p-valor em 0,34 e o filtrado em 0,56.\n",
    "\n",
    "* Tal diferença é de grande expressividade, visto que, temos uma diferença de 0,2 no pvalor. A magnitude é muito alta\n",
    "\n",
    "* Apesar dos erros, podemos ver que em ambos os grupos o seguinte\n",
    "\n",
    "    - A conversão de fato muda entre os grupos\n",
    "    - O ticket médio não muda entre os grupos"
   ]
  },
  {
   "cell_type": "markdown",
   "metadata": {},
   "source": [
    "##### Seção extra - Análise de viabilidade de teste\n",
    "\n",
    "Com os dados que coletamos durante nossa análise iremos realizar um teste extra para averiguar se o teste A/B foi bem realizado durante o período.\n",
    "\n",
    "Iremos usar os seguintes dados:\n",
    "\n",
    "- conversão média dos dados filtrados;\n",
    "\n",
    "- há 2 grupos de teste\n",
    "\n",
    "- visitantes médios diários\n",
    "\n",
    "- quantidade de pessoas no grupo B (teste)\n",
    "\n",
    "Iremos utilizar a ferramenta do website https://vwo.com/tools/ab-test-duration-calculator/ para averiguar o tempo necessário e comparar com o que foi realizado."
   ]
  },
  {
   "cell_type": "code",
   "execution_count": 813,
   "metadata": {},
   "outputs": [
    {
     "name": "stdout",
     "output_type": "stream",
     "text": [
      "A conversão média geral é 2.69744173485583\n",
      "O número de visitas diárias médias é de 1214.5806451612902\n",
      "O rate é de 1.0096071733561058\n"
     ]
    }
   ],
   "source": [
    "# conversão média geral\n",
    "conv_general_num = conv_general['conversion%'].mean()\n",
    "print(f'A conversão média geral é {conv_general_num}')\n",
    "\n",
    "# visitantes médios diários\n",
    "visits_daily = df_visits.groupby('date')['visits'].sum().reset_index()\n",
    "visits_daily_num = visits_daily['visits'].mean()\n",
    "print(f'O número de visitas diárias médias é de {visits_daily_num}')\n",
    "\n",
    "# quantidades de pessoas no grupo B\n",
    "group_a_sum = df_visits[df_visits['group'] == 'A']['visits'].sum()\n",
    "group_b_sum = df_visits[df_visits['group'] == 'B']['visits'].sum()\n",
    "\n",
    "person_rate = group_b_sum / group_a_sum\n",
    "\n",
    "print(f'O rate é de {person_rate}')"
   ]
  },
  {
   "cell_type": "markdown",
   "metadata": {},
   "source": [
    "Logo iremos considerar os seguines dados:\n",
    "\n",
    "- conversão média de 2,7\n",
    "\n",
    "- número de visitas diárias médias de 1214 visitas diárias\n",
    "\n",
    "- o teste está dividido em 50%\n",
    "\n",
    "- A diferença percentual das conversões é de aproximadamente 16%."
   ]
  },
  {
   "cell_type": "markdown",
   "metadata": {},
   "source": [
    "**Conclusão**\n",
    "\n",
    "Ao realizar o teste temos que:"
   ]
  },
  {
   "attachments": {
    "Captura%20de%20Tela%202023-06-20%20a%CC%80s%2018.47.14.png": {
     "image/png": "[encoded data removed]"
    }
   },
   "cell_type": "markdown",
   "metadata": {},
   "source": [
    "![Captura%20de%20Tela%202023-06-20%20a%CC%80s%2018.47.14.png](attachment:Captura%20de%20Tela%202023-06-20%20a%CC%80s%2018.47.14.png)"
   ]
  },
  {
   "cell_type": "markdown",
   "metadata": {},
   "source": [
    "Assim teriamos que ter o teste por 74 dias. Iremos calcular por quanto tempo o teste foi rodado de fato"
   ]
  },
  {
   "cell_type": "code",
   "execution_count": 814,
   "metadata": {},
   "outputs": [
    {
     "name": "stdout",
     "output_type": "stream",
     "text": [
      "O tempo de teste é de 30 dias.\n"
     ]
    }
   ],
   "source": [
    "# calculando o tempo de teste\n",
    "days = (df_visits['date'].max() - df_visits['date'].min()).days\n",
    "\n",
    "print(f'O tempo de teste é de {days} dias.')"
   ]
  },
  {
   "cell_type": "markdown",
   "metadata": {},
   "source": [
    "**Conclusão**\n",
    "\n",
    "Pelos testes podemos ver que foi rodado por 30 dias, sendo que o recomendado seria 74 dias de teste para resultados concisos. Isso seria o dobro do tempo."
   ]
  },
  {
   "cell_type": "markdown",
   "metadata": {},
   "source": [
    "### Conclusão\n",
    "\n"
   ]
  },
  {
   "cell_type": "markdown",
   "metadata": {},
   "source": [
    "A partir da análise detalhada dos dados, concluímos que:\n",
    "\n",
    "O Grupo B mostrou um desempenho superior em termos de geração de receita em comparação com o Grupo A, representando aproximadamente 60% do total da receita acumulada. Observamos uma diferença interessante de 20% na receita entre os dois grupos. Além disso, o ticket médio do Grupo B foi maior, o que sugere que a receita do Grupo B pode estar sendo impulsionada pelo aumento do ticket médio. No entanto, ambos os grupos apresentaram tendências similares em termos de conversão, com o Grupo B apresentando inicialmente uma taxa de conversão mais baixa, mas superando o Grupo A com o passar do tempo.\n",
    "\n",
    "A volatilidade observada no Grupo B, em termos de picos e quedas, pode ser atribuída ao fato de que os usuários desse grupo precisaram de um período de adaptação. Apesar de um ticket médio mais elevado, a conversão não parece ter aumentado com o tempo. No entanto, é importante ressaltar que mesmo com uma diferença de 0,4% na taxa de conversão, o Grupo B demonstrou uma maior conversão relativa, conseguindo 4 vendas a mais a cada 100 clientes em comparação com o Grupo A. Isso indica que a mudança para o Grupo B não só aumentou o ticket médio, mas também a taxa de conversão média, mostrando-se como uma estratégia eficaz.\n",
    "\n",
    "Na análise da frequência de pedidos por cliente, descobrimos que a maioria dos clientes realiza apenas um pedido durante todo o período de teste, o que sugere a falta de compras recorrentes. Isso é algo que merece ser investigado e melhorado.\n",
    "\n",
    "Embora tenhamos notado alguns pontos fora da curva no gráfico de preços dos pedidos, o ticket médio parece se manter constante entre os usuários. Com um ticket médio de 145, é importante notar que há clientes que excedem esse valor, apontando para um potencial de receita maior.\n",
    "\n",
    "Por fim, observamos variações significativas nos p-valores entre os conjuntos de dados filtrados e não filtrados, demonstrando a importância de uma limpeza de dados cuidadosa para as nossas análises. A conversão foi confirmada como um elemento variável entre os grupos em ambos os cenários, enquanto o ticket médio manteve-se constante.\n",
    "\n",
    "Em suma, o Grupo B demonstrou um desempenho superior em termos de geração de receita e taxa de conversão, sugerindo que se focar nesse grupo pode ser uma estratégia benéfica. No entanto, devemos levar em consideração a importância de um processamento de dados cuidadoso para evitar distorções nos resultados, e a necessidade de promover a recorrência de compras para aumentar ainda mais a rentabilidade.\n",
    "\n",
    "\n",
    "-----------------------------------------\n",
    "\n",
    "**Recomendação final de teste:**\n",
    "\n",
    "Apesar de todas as conclusões geradas pelos testes obtidos parecerem mostrar que o grupo B melhorou a receita de maneira significativa e teve um leve aumento na conversão no período recomendamos que a **continuação de teste** por mais tempo, pois ao analisarmos o tempo médio do teste A/B com os dados retirados das análises na [Seção extra - Análise de viabilidade de teste] podemos ver que para a diferença de conversão que obtivemos teriamos que ter um tempo mínimo de 74 dias ao contrário dos 30 dias observados.\n",
    "\n",
    "Logo, o correto seria correr o teste por mais 34 dias e analisar se a conversão, de fato, estabeleceu ou cresceu em comparação com os dados obtidos, assim teremos mais certeza que o teste foi realizado de maneira correta e de que a funcionalidade implementada em no grupo B é de fato real e traz melhorias concretas."
   ]
  },
  {
   "cell_type": "code",
   "execution_count": null,
   "metadata": {},
   "outputs": [],
   "source": []
  }
 ],
 "metadata": {
  "kernelspec": {
   "display_name": "Python 3",
   "language": "python",
   "name": "python3"
  },
  "language_info": {
   "codemirror_mode": {
    "name": "ipython",
    "version": 3
   },
   "file_extension": ".py",
   "mimetype": "text/x-python",
   "name": "python",
   "nbconvert_exporter": "python",
   "pygments_lexer": "ipython3",
   "version": "3.8.8"
  },
  "toc": {
   "base_numbering": 1,
   "nav_menu": {},
   "number_sections": true,
   "sideBar": true,
   "skip_h1_title": true,
   "title_cell": "Table of Contents",
   "title_sidebar": "Contents",
   "toc_cell": false,
   "toc_position": {
    "height": "621px",
    "left": "71px",
    "top": "111.141px",
    "width": "308.594px"
   },
   "toc_section_display": true,
   "toc_window_display": true
  }
 },
 "nbformat": 4,
 "nbformat_minor": 2
}
